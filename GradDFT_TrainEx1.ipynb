{
  "nbformat": 4,
  "nbformat_minor": 0,
  "metadata": {
    "colab": {
      "provenance": [],
      "machine_shape": "hm",
      "authorship_tag": "ABX9TyPz6wEKAhwF73wnm8PPLIcM",
      "include_colab_link": true
    },
    "kernelspec": {
      "name": "python3",
      "display_name": "Python 3"
    },
    "language_info": {
      "name": "python"
    }
  },
  "cells": [
    {
      "cell_type": "markdown",
      "metadata": {
        "id": "view-in-github",
        "colab_type": "text"
      },
      "source": [
        "<a href=\"https://colab.research.google.com/github/kkk020719/DFT_Fall24/blob/main/GradDFT_TrainEx1.ipynb\" target=\"_parent\"><img src=\"https://colab.research.google.com/assets/colab-badge.svg\" alt=\"Open In Colab\"/></a>"
      ]
    },
    {
      "cell_type": "code",
      "execution_count": 3,
      "metadata": {
        "id": "6R0q3q7WCGdA",
        "collapsed": true,
        "colab": {
          "base_uri": "https://localhost:8080/",
          "height": 1000
        },
        "outputId": "4b310534-4dd6-4ca1-9673-6802cc5be4c8"
      },
      "outputs": [
        {
          "output_type": "stream",
          "name": "stdout",
          "text": [
            "Collecting git+https://github.com/XanaduAI/GradDFT.git\n",
            "  Cloning https://github.com/XanaduAI/GradDFT.git to /tmp/pip-req-build-td1hni96\n",
            "  Running command git clone --filter=blob:none --quiet https://github.com/XanaduAI/GradDFT.git /tmp/pip-req-build-td1hni96\n",
            "  Resolved https://github.com/XanaduAI/GradDFT.git to commit 941afc28a6b24477369d638b07ca64c6a46365ba\n",
            "  Preparing metadata (setup.py) ... \u001b[?25l\u001b[?25hdone\n",
            "Requirement already satisfied: jax>=0.4.14 in /usr/local/lib/python3.10/dist-packages (from grad_dft==0.1) (0.4.20)\n",
            "Requirement already satisfied: jaxlib>=0.4.14 in /usr/local/lib/python3.10/dist-packages (from grad_dft==0.1) (0.4.20)\n",
            "Requirement already satisfied: pyscf>=2.3.0 in /usr/local/lib/python3.10/dist-packages (from grad_dft==0.1) (2.7.0)\n",
            "Requirement already satisfied: attrs>=23.1.0 in /usr/local/lib/python3.10/dist-packages (from grad_dft==0.1) (24.2.0)\n",
            "Requirement already satisfied: flax>=0.7.2 in /usr/local/lib/python3.10/dist-packages (from grad_dft==0.1) (0.8.5)\n",
            "Requirement already satisfied: tensorflow<=2.14.0,>=2.13.0 in /usr/local/lib/python3.10/dist-packages (from grad_dft==0.1) (2.14.0)\n",
            "Requirement already satisfied: tensorflow-hub>=0.14.0 in /usr/local/lib/python3.10/dist-packages (from grad_dft==0.1) (0.16.1)\n",
            "Requirement already satisfied: typeguard==2.13.3 in /usr/local/lib/python3.10/dist-packages (from grad_dft==0.1) (2.13.3)\n",
            "Requirement already satisfied: typing_extensions>=4.8.0 in /usr/local/lib/python3.10/dist-packages (from grad_dft==0.1) (4.12.2)\n",
            "Requirement already satisfied: jaxtyping in /usr/local/lib/python3.10/dist-packages (from grad_dft==0.1) (0.2.36)\n",
            "Requirement already satisfied: pytest>=7.4.3 in /usr/local/lib/python3.10/dist-packages (from grad_dft==0.1) (8.3.3)\n",
            "Requirement already satisfied: numpy>=1.22 in /usr/local/lib/python3.10/dist-packages (from flax>=0.7.2->grad_dft==0.1) (1.26.4)\n",
            "Collecting jax>=0.4.14 (from grad_dft==0.1)\n",
            "  Using cached jax-0.4.35-py3-none-any.whl.metadata (22 kB)\n",
            "Requirement already satisfied: msgpack in /usr/local/lib/python3.10/dist-packages (from flax>=0.7.2->grad_dft==0.1) (1.1.0)\n",
            "Requirement already satisfied: optax in /usr/local/lib/python3.10/dist-packages (from flax>=0.7.2->grad_dft==0.1) (0.2.0)\n",
            "Requirement already satisfied: orbax-checkpoint in /usr/local/lib/python3.10/dist-packages (from flax>=0.7.2->grad_dft==0.1) (0.4.4)\n",
            "Requirement already satisfied: tensorstore in /usr/local/lib/python3.10/dist-packages (from flax>=0.7.2->grad_dft==0.1) (0.1.45)\n",
            "Requirement already satisfied: rich>=11.1 in /usr/local/lib/python3.10/dist-packages (from flax>=0.7.2->grad_dft==0.1) (13.9.4)\n",
            "Requirement already satisfied: PyYAML>=5.4.1 in /usr/local/lib/python3.10/dist-packages (from flax>=0.7.2->grad_dft==0.1) (6.0.2)\n",
            "Collecting jaxlib>=0.4.14 (from grad_dft==0.1)\n",
            "  Using cached jaxlib-0.4.35-cp310-cp310-manylinux2014_x86_64.whl.metadata (983 bytes)\n",
            "Collecting ml-dtypes>=0.4.0 (from jax>=0.4.14->grad_dft==0.1)\n",
            "  Downloading ml_dtypes-0.5.0-cp310-cp310-manylinux_2_17_x86_64.manylinux2014_x86_64.whl.metadata (21 kB)\n",
            "Requirement already satisfied: opt-einsum in /usr/local/lib/python3.10/dist-packages (from jax>=0.4.14->grad_dft==0.1) (3.4.0)\n",
            "Requirement already satisfied: scipy>=1.10 in /usr/local/lib/python3.10/dist-packages (from jax>=0.4.14->grad_dft==0.1) (1.13.1)\n",
            "Requirement already satisfied: h5py>=2.7 in /usr/local/lib/python3.10/dist-packages (from pyscf>=2.3.0->grad_dft==0.1) (3.12.1)\n",
            "Requirement already satisfied: setuptools in /usr/local/lib/python3.10/dist-packages (from pyscf>=2.3.0->grad_dft==0.1) (75.1.0)\n",
            "Requirement already satisfied: iniconfig in /usr/local/lib/python3.10/dist-packages (from pytest>=7.4.3->grad_dft==0.1) (2.0.0)\n",
            "Requirement already satisfied: packaging in /usr/local/lib/python3.10/dist-packages (from pytest>=7.4.3->grad_dft==0.1) (24.2)\n",
            "Requirement already satisfied: pluggy<2,>=1.5 in /usr/local/lib/python3.10/dist-packages (from pytest>=7.4.3->grad_dft==0.1) (1.5.0)\n",
            "Requirement already satisfied: exceptiongroup>=1.0.0rc8 in /usr/local/lib/python3.10/dist-packages (from pytest>=7.4.3->grad_dft==0.1) (1.2.2)\n",
            "Requirement already satisfied: tomli>=1 in /usr/local/lib/python3.10/dist-packages (from pytest>=7.4.3->grad_dft==0.1) (2.1.0)\n",
            "Requirement already satisfied: absl-py>=1.0.0 in /usr/local/lib/python3.10/dist-packages (from tensorflow<=2.14.0,>=2.13.0->grad_dft==0.1) (1.4.0)\n",
            "Requirement already satisfied: astunparse>=1.6.0 in /usr/local/lib/python3.10/dist-packages (from tensorflow<=2.14.0,>=2.13.0->grad_dft==0.1) (1.6.3)\n",
            "Requirement already satisfied: flatbuffers>=23.5.26 in /usr/local/lib/python3.10/dist-packages (from tensorflow<=2.14.0,>=2.13.0->grad_dft==0.1) (24.3.25)\n",
            "Requirement already satisfied: gast!=0.5.0,!=0.5.1,!=0.5.2,>=0.2.1 in /usr/local/lib/python3.10/dist-packages (from tensorflow<=2.14.0,>=2.13.0->grad_dft==0.1) (0.6.0)\n",
            "Requirement already satisfied: google-pasta>=0.1.1 in /usr/local/lib/python3.10/dist-packages (from tensorflow<=2.14.0,>=2.13.0->grad_dft==0.1) (0.2.0)\n",
            "Requirement already satisfied: libclang>=13.0.0 in /usr/local/lib/python3.10/dist-packages (from tensorflow<=2.14.0,>=2.13.0->grad_dft==0.1) (18.1.1)\n",
            "INFO: pip is looking at multiple versions of tensorflow to determine which version is compatible with other requirements. This could take a while.\n",
            "Collecting tensorflow<=2.14.0,>=2.13.0 (from grad_dft==0.1)\n",
            "  Downloading tensorflow-2.13.1-cp310-cp310-manylinux_2_17_x86_64.manylinux2014_x86_64.whl.metadata (3.4 kB)\n",
            "Collecting gast<=0.4.0,>=0.2.1 (from tensorflow<=2.14.0,>=2.13.0->grad_dft==0.1)\n",
            "  Downloading gast-0.4.0-py3-none-any.whl.metadata (1.1 kB)\n",
            "Requirement already satisfied: grpcio<2.0,>=1.24.3 in /usr/local/lib/python3.10/dist-packages (from tensorflow<=2.14.0,>=2.13.0->grad_dft==0.1) (1.67.1)\n",
            "Collecting keras<2.14,>=2.13.1 (from tensorflow<=2.14.0,>=2.13.0->grad_dft==0.1)\n",
            "  Downloading keras-2.13.1-py3-none-any.whl.metadata (2.4 kB)\n",
            "Collecting numpy>=1.22 (from flax>=0.7.2->grad_dft==0.1)\n",
            "  Downloading numpy-1.24.3-cp310-cp310-manylinux_2_17_x86_64.manylinux2014_x86_64.whl.metadata (5.6 kB)\n",
            "Requirement already satisfied: protobuf!=4.21.0,!=4.21.1,!=4.21.2,!=4.21.3,!=4.21.4,!=4.21.5,<5.0.0dev,>=3.20.3 in /usr/local/lib/python3.10/dist-packages (from tensorflow<=2.14.0,>=2.13.0->grad_dft==0.1) (4.25.5)\n",
            "Requirement already satisfied: six>=1.12.0 in /usr/local/lib/python3.10/dist-packages (from tensorflow<=2.14.0,>=2.13.0->grad_dft==0.1) (1.16.0)\n",
            "Collecting tensorboard<2.14,>=2.13 (from tensorflow<=2.14.0,>=2.13.0->grad_dft==0.1)\n",
            "  Downloading tensorboard-2.13.0-py3-none-any.whl.metadata (1.8 kB)\n",
            "Collecting tensorflow-estimator<2.14,>=2.13.0 (from tensorflow<=2.14.0,>=2.13.0->grad_dft==0.1)\n",
            "  Downloading tensorflow_estimator-2.13.0-py2.py3-none-any.whl.metadata (1.3 kB)\n",
            "Requirement already satisfied: termcolor>=1.1.0 in /usr/local/lib/python3.10/dist-packages (from tensorflow<=2.14.0,>=2.13.0->grad_dft==0.1) (2.5.0)\n",
            "Collecting tensorflow<=2.14.0,>=2.13.0 (from grad_dft==0.1)\n",
            "  Downloading tensorflow-2.13.0-cp310-cp310-manylinux_2_17_x86_64.manylinux2014_x86_64.whl.metadata (3.4 kB)\n",
            "Collecting jaxlib>=0.4.14 (from grad_dft==0.1)\n",
            "  Using cached jaxlib-0.4.34-cp310-cp310-manylinux2014_x86_64.whl.metadata (983 bytes)\n",
            "Collecting jax>=0.4.14 (from grad_dft==0.1)\n",
            "  Using cached jax-0.4.34-py3-none-any.whl.metadata (22 kB)\n",
            "Requirement already satisfied: ml-dtypes>=0.2.0 in /usr/local/lib/python3.10/dist-packages (from jax>=0.4.14->grad_dft==0.1) (0.2.0)\n",
            "Requirement already satisfied: wrapt<1.15,>=1.11.0 in /usr/local/lib/python3.10/dist-packages (from tensorflow<=2.14.0,>=2.13.0->grad_dft==0.1) (1.14.1)\n",
            "Requirement already satisfied: tensorflow-io-gcs-filesystem>=0.23.1 in /usr/local/lib/python3.10/dist-packages (from tensorflow<=2.14.0,>=2.13.0->grad_dft==0.1) (0.37.1)\n",
            "Requirement already satisfied: tensorboard<2.15,>=2.14 in /usr/local/lib/python3.10/dist-packages (from tensorflow<=2.14.0,>=2.13.0->grad_dft==0.1) (2.14.1)\n",
            "Requirement already satisfied: tensorflow-estimator<2.15,>=2.14.0 in /usr/local/lib/python3.10/dist-packages (from tensorflow<=2.14.0,>=2.13.0->grad_dft==0.1) (2.14.0)\n",
            "Requirement already satisfied: keras<2.15,>=2.14.0 in /usr/local/lib/python3.10/dist-packages (from tensorflow<=2.14.0,>=2.13.0->grad_dft==0.1) (2.14.0)\n",
            "Requirement already satisfied: tf-keras>=2.14.1 in /usr/local/lib/python3.10/dist-packages (from tensorflow-hub>=0.14.0->grad_dft==0.1) (2.15.0)\n",
            "Requirement already satisfied: wheel<1.0,>=0.23.0 in /usr/local/lib/python3.10/dist-packages (from astunparse>=1.6.0->tensorflow<=2.14.0,>=2.13.0->grad_dft==0.1) (0.45.0)\n",
            "Requirement already satisfied: markdown-it-py>=2.2.0 in /usr/local/lib/python3.10/dist-packages (from rich>=11.1->flax>=0.7.2->grad_dft==0.1) (3.0.0)\n",
            "Requirement already satisfied: pygments<3.0.0,>=2.13.0 in /usr/local/lib/python3.10/dist-packages (from rich>=11.1->flax>=0.7.2->grad_dft==0.1) (2.18.0)\n",
            "Requirement already satisfied: google-auth<3,>=1.6.3 in /usr/local/lib/python3.10/dist-packages (from tensorboard<2.15,>=2.14->tensorflow<=2.14.0,>=2.13.0->grad_dft==0.1) (2.27.0)\n",
            "Requirement already satisfied: google-auth-oauthlib<1.1,>=0.5 in /usr/local/lib/python3.10/dist-packages (from tensorboard<2.15,>=2.14->tensorflow<=2.14.0,>=2.13.0->grad_dft==0.1) (1.0.0)\n",
            "Requirement already satisfied: markdown>=2.6.8 in /usr/local/lib/python3.10/dist-packages (from tensorboard<2.15,>=2.14->tensorflow<=2.14.0,>=2.13.0->grad_dft==0.1) (3.7)\n",
            "Requirement already satisfied: requests<3,>=2.21.0 in /usr/local/lib/python3.10/dist-packages (from tensorboard<2.15,>=2.14->tensorflow<=2.14.0,>=2.13.0->grad_dft==0.1) (2.32.3)\n",
            "Requirement already satisfied: tensorboard-data-server<0.8.0,>=0.7.0 in /usr/local/lib/python3.10/dist-packages (from tensorboard<2.15,>=2.14->tensorflow<=2.14.0,>=2.13.0->grad_dft==0.1) (0.7.2)\n",
            "Requirement already satisfied: werkzeug>=1.0.1 in /usr/local/lib/python3.10/dist-packages (from tensorboard<2.15,>=2.14->tensorflow<=2.14.0,>=2.13.0->grad_dft==0.1) (3.1.3)\n",
            "Requirement already satisfied: chex>=0.1.7 in /usr/local/lib/python3.10/dist-packages (from optax->flax>=0.7.2->grad_dft==0.1) (0.1.87)\n",
            "Requirement already satisfied: etils[epath,epy] in /usr/local/lib/python3.10/dist-packages (from orbax-checkpoint->flax>=0.7.2->grad_dft==0.1) (1.10.0)\n",
            "Requirement already satisfied: nest_asyncio in /usr/local/lib/python3.10/dist-packages (from orbax-checkpoint->flax>=0.7.2->grad_dft==0.1) (1.6.0)\n",
            "Requirement already satisfied: toolz>=0.9.0 in /usr/local/lib/python3.10/dist-packages (from chex>=0.1.7->optax->flax>=0.7.2->grad_dft==0.1) (0.12.1)\n",
            "Requirement already satisfied: cachetools<6.0,>=2.0.0 in /usr/local/lib/python3.10/dist-packages (from google-auth<3,>=1.6.3->tensorboard<2.15,>=2.14->tensorflow<=2.14.0,>=2.13.0->grad_dft==0.1) (5.5.0)\n",
            "Requirement already satisfied: pyasn1-modules>=0.2.1 in /usr/local/lib/python3.10/dist-packages (from google-auth<3,>=1.6.3->tensorboard<2.15,>=2.14->tensorflow<=2.14.0,>=2.13.0->grad_dft==0.1) (0.4.1)\n",
            "Requirement already satisfied: rsa<5,>=3.1.4 in /usr/local/lib/python3.10/dist-packages (from google-auth<3,>=1.6.3->tensorboard<2.15,>=2.14->tensorflow<=2.14.0,>=2.13.0->grad_dft==0.1) (4.9)\n",
            "Requirement already satisfied: requests-oauthlib>=0.7.0 in /usr/local/lib/python3.10/dist-packages (from google-auth-oauthlib<1.1,>=0.5->tensorboard<2.15,>=2.14->tensorflow<=2.14.0,>=2.13.0->grad_dft==0.1) (1.3.1)\n",
            "Requirement already satisfied: mdurl~=0.1 in /usr/local/lib/python3.10/dist-packages (from markdown-it-py>=2.2.0->rich>=11.1->flax>=0.7.2->grad_dft==0.1) (0.1.2)\n",
            "Requirement already satisfied: charset-normalizer<4,>=2 in /usr/local/lib/python3.10/dist-packages (from requests<3,>=2.21.0->tensorboard<2.15,>=2.14->tensorflow<=2.14.0,>=2.13.0->grad_dft==0.1) (3.4.0)\n",
            "Requirement already satisfied: idna<4,>=2.5 in /usr/local/lib/python3.10/dist-packages (from requests<3,>=2.21.0->tensorboard<2.15,>=2.14->tensorflow<=2.14.0,>=2.13.0->grad_dft==0.1) (3.10)\n",
            "Requirement already satisfied: urllib3<3,>=1.21.1 in /usr/local/lib/python3.10/dist-packages (from requests<3,>=2.21.0->tensorboard<2.15,>=2.14->tensorflow<=2.14.0,>=2.13.0->grad_dft==0.1) (2.2.3)\n",
            "Requirement already satisfied: certifi>=2017.4.17 in /usr/local/lib/python3.10/dist-packages (from requests<3,>=2.21.0->tensorboard<2.15,>=2.14->tensorflow<=2.14.0,>=2.13.0->grad_dft==0.1) (2024.8.30)\n",
            "Requirement already satisfied: MarkupSafe>=2.1.1 in /usr/local/lib/python3.10/dist-packages (from werkzeug>=1.0.1->tensorboard<2.15,>=2.14->tensorflow<=2.14.0,>=2.13.0->grad_dft==0.1) (3.0.2)\n",
            "Requirement already satisfied: fsspec in /usr/local/lib/python3.10/dist-packages (from etils[epath,epy]->orbax-checkpoint->flax>=0.7.2->grad_dft==0.1) (2024.10.0)\n",
            "Requirement already satisfied: importlib_resources in /usr/local/lib/python3.10/dist-packages (from etils[epath,epy]->orbax-checkpoint->flax>=0.7.2->grad_dft==0.1) (6.4.5)\n",
            "Requirement already satisfied: zipp in /usr/local/lib/python3.10/dist-packages (from etils[epath,epy]->orbax-checkpoint->flax>=0.7.2->grad_dft==0.1) (3.21.0)\n",
            "Requirement already satisfied: pyasn1<0.7.0,>=0.4.6 in /usr/local/lib/python3.10/dist-packages (from pyasn1-modules>=0.2.1->google-auth<3,>=1.6.3->tensorboard<2.15,>=2.14->tensorflow<=2.14.0,>=2.13.0->grad_dft==0.1) (0.6.1)\n",
            "Requirement already satisfied: oauthlib>=3.0.0 in /usr/local/lib/python3.10/dist-packages (from requests-oauthlib>=0.7.0->google-auth-oauthlib<1.1,>=0.5->tensorboard<2.15,>=2.14->tensorflow<=2.14.0,>=2.13.0->grad_dft==0.1) (3.2.2)\n",
            "Downloading jax-0.4.34-py3-none-any.whl (2.1 MB)\n",
            "\u001b[2K   \u001b[90m━━━━━━━━━━━━━━━━━━━━━━━━━━━━━━━━━━━━━━━━\u001b[0m \u001b[32m2.1/2.1 MB\u001b[0m \u001b[31m24.3 MB/s\u001b[0m eta \u001b[36m0:00:00\u001b[0m\n",
            "\u001b[?25hDownloading jaxlib-0.4.34-cp310-cp310-manylinux2014_x86_64.whl (86.1 MB)\n",
            "\u001b[2K   \u001b[90m━━━━━━━━━━━━━━━━━━━━━━━━━━━━━━━━━━━━━━━━\u001b[0m \u001b[32m86.1/86.1 MB\u001b[0m \u001b[31m17.6 MB/s\u001b[0m eta \u001b[36m0:00:00\u001b[0m\n",
            "\u001b[?25hInstalling collected packages: jaxlib, jax\n",
            "  Attempting uninstall: jaxlib\n",
            "    Found existing installation: jaxlib 0.4.20\n",
            "    Uninstalling jaxlib-0.4.20:\n",
            "      Successfully uninstalled jaxlib-0.4.20\n",
            "  Attempting uninstall: jax\n",
            "    Found existing installation: jax 0.4.20\n",
            "    Uninstalling jax-0.4.20:\n",
            "      Successfully uninstalled jax-0.4.20\n",
            "Successfully installed jax-0.4.34 jaxlib-0.4.34\n"
          ]
        },
        {
          "output_type": "display_data",
          "data": {
            "application/vnd.colab-display-data+json": {
              "pip_warning": {
                "packages": [
                  "jax",
                  "jaxlib"
                ]
              },
              "id": "cf94cee6a15249fb81f55c2a630a0fb8"
            }
          },
          "metadata": {}
        },
        {
          "output_type": "stream",
          "name": "stdout",
          "text": [
            "Requirement already satisfied: torch_geometric in /usr/local/lib/python3.10/dist-packages (2.6.1)\n",
            "Requirement already satisfied: aiohttp in /usr/local/lib/python3.10/dist-packages (from torch_geometric) (3.11.1)\n",
            "Requirement already satisfied: fsspec in /usr/local/lib/python3.10/dist-packages (from torch_geometric) (2024.10.0)\n",
            "Requirement already satisfied: jinja2 in /usr/local/lib/python3.10/dist-packages (from torch_geometric) (3.1.4)\n",
            "Requirement already satisfied: numpy in /usr/local/lib/python3.10/dist-packages (from torch_geometric) (1.26.4)\n",
            "Requirement already satisfied: psutil>=5.8.0 in /usr/local/lib/python3.10/dist-packages (from torch_geometric) (5.9.5)\n",
            "Requirement already satisfied: pyparsing in /usr/local/lib/python3.10/dist-packages (from torch_geometric) (3.2.0)\n",
            "Requirement already satisfied: requests in /usr/local/lib/python3.10/dist-packages (from torch_geometric) (2.32.3)\n",
            "Requirement already satisfied: tqdm in /usr/local/lib/python3.10/dist-packages (from torch_geometric) (4.66.6)\n",
            "Requirement already satisfied: aiohappyeyeballs>=2.3.0 in /usr/local/lib/python3.10/dist-packages (from aiohttp->torch_geometric) (2.4.3)\n",
            "Requirement already satisfied: aiosignal>=1.1.2 in /usr/local/lib/python3.10/dist-packages (from aiohttp->torch_geometric) (1.3.1)\n",
            "Requirement already satisfied: attrs>=17.3.0 in /usr/local/lib/python3.10/dist-packages (from aiohttp->torch_geometric) (24.2.0)\n",
            "Requirement already satisfied: frozenlist>=1.1.1 in /usr/local/lib/python3.10/dist-packages (from aiohttp->torch_geometric) (1.5.0)\n",
            "Requirement already satisfied: multidict<7.0,>=4.5 in /usr/local/lib/python3.10/dist-packages (from aiohttp->torch_geometric) (6.1.0)\n",
            "Requirement already satisfied: propcache>=0.2.0 in /usr/local/lib/python3.10/dist-packages (from aiohttp->torch_geometric) (0.2.0)\n",
            "Requirement already satisfied: yarl<2.0,>=1.17.0 in /usr/local/lib/python3.10/dist-packages (from aiohttp->torch_geometric) (1.17.1)\n",
            "Requirement already satisfied: async-timeout<6.0,>=4.0 in /usr/local/lib/python3.10/dist-packages (from aiohttp->torch_geometric) (4.0.3)\n",
            "Requirement already satisfied: MarkupSafe>=2.0 in /usr/local/lib/python3.10/dist-packages (from jinja2->torch_geometric) (3.0.2)\n",
            "Requirement already satisfied: charset-normalizer<4,>=2 in /usr/local/lib/python3.10/dist-packages (from requests->torch_geometric) (3.4.0)\n",
            "Requirement already satisfied: idna<4,>=2.5 in /usr/local/lib/python3.10/dist-packages (from requests->torch_geometric) (3.10)\n",
            "Requirement already satisfied: urllib3<3,>=1.21.1 in /usr/local/lib/python3.10/dist-packages (from requests->torch_geometric) (2.2.3)\n",
            "Requirement already satisfied: certifi>=2017.4.17 in /usr/local/lib/python3.10/dist-packages (from requests->torch_geometric) (2024.8.30)\n",
            "Requirement already satisfied: typing-extensions>=4.1.0 in /usr/local/lib/python3.10/dist-packages (from multidict<7.0,>=4.5->aiohttp->torch_geometric) (4.12.2)\n",
            "Requirement already satisfied: optax==0.2.0 in /usr/local/lib/python3.10/dist-packages (0.2.0)\n",
            "Requirement already satisfied: absl-py>=0.7.1 in /usr/local/lib/python3.10/dist-packages (from optax==0.2.0) (1.4.0)\n",
            "Requirement already satisfied: chex>=0.1.7 in /usr/local/lib/python3.10/dist-packages (from optax==0.2.0) (0.1.87)\n",
            "Requirement already satisfied: jax>=0.1.55 in /usr/local/lib/python3.10/dist-packages (from optax==0.2.0) (0.4.34)\n",
            "Requirement already satisfied: jaxlib>=0.1.37 in /usr/local/lib/python3.10/dist-packages (from optax==0.2.0) (0.4.34)\n",
            "Requirement already satisfied: numpy>=1.18.0 in /usr/local/lib/python3.10/dist-packages (from optax==0.2.0) (1.26.4)\n",
            "Requirement already satisfied: typing-extensions>=4.2.0 in /usr/local/lib/python3.10/dist-packages (from chex>=0.1.7->optax==0.2.0) (4.12.2)\n",
            "Requirement already satisfied: toolz>=0.9.0 in /usr/local/lib/python3.10/dist-packages (from chex>=0.1.7->optax==0.2.0) (0.12.1)\n",
            "Requirement already satisfied: ml-dtypes>=0.2.0 in /usr/local/lib/python3.10/dist-packages (from jax>=0.1.55->optax==0.2.0) (0.2.0)\n",
            "Requirement already satisfied: opt-einsum in /usr/local/lib/python3.10/dist-packages (from jax>=0.1.55->optax==0.2.0) (3.4.0)\n",
            "Requirement already satisfied: scipy>=1.10 in /usr/local/lib/python3.10/dist-packages (from jax>=0.1.55->optax==0.2.0) (1.13.1)\n",
            "Collecting jax==0.4.20\n",
            "  Using cached jax-0.4.20-py3-none-any.whl.metadata (23 kB)\n",
            "Collecting jaxlib==0.4.20\n",
            "  Using cached jaxlib-0.4.20-cp310-cp310-manylinux2014_x86_64.whl.metadata (2.1 kB)\n",
            "Requirement already satisfied: ml-dtypes>=0.2.0 in /usr/local/lib/python3.10/dist-packages (from jax==0.4.20) (0.2.0)\n",
            "Requirement already satisfied: numpy>=1.22 in /usr/local/lib/python3.10/dist-packages (from jax==0.4.20) (1.26.4)\n",
            "Requirement already satisfied: opt-einsum in /usr/local/lib/python3.10/dist-packages (from jax==0.4.20) (3.4.0)\n",
            "Requirement already satisfied: scipy>=1.9 in /usr/local/lib/python3.10/dist-packages (from jax==0.4.20) (1.13.1)\n",
            "Using cached jax-0.4.20-py3-none-any.whl (1.7 MB)\n",
            "Using cached jaxlib-0.4.20-cp310-cp310-manylinux2014_x86_64.whl (85.8 MB)\n",
            "Installing collected packages: jaxlib, jax\n",
            "  Attempting uninstall: jaxlib\n",
            "    Found existing installation: jaxlib 0.4.34\n",
            "    Uninstalling jaxlib-0.4.34:\n",
            "      Successfully uninstalled jaxlib-0.4.34\n",
            "  Attempting uninstall: jax\n",
            "    Found existing installation: jax 0.4.34\n",
            "    Uninstalling jax-0.4.34:\n",
            "      Successfully uninstalled jax-0.4.34\n",
            "\u001b[31mERROR: pip's dependency resolver does not currently take into account all the packages that are installed. This behaviour is the source of the following dependency conflicts.\n",
            "chex 0.1.87 requires jax>=0.4.27, but you have jax 0.4.20 which is incompatible.\n",
            "chex 0.1.87 requires jaxlib>=0.4.27, but you have jaxlib 0.4.20 which is incompatible.\n",
            "flax 0.8.5 requires jax>=0.4.27, but you have jax 0.4.20 which is incompatible.\u001b[0m\u001b[31m\n",
            "\u001b[0mSuccessfully installed jax-0.4.20 jaxlib-0.4.20\n"
          ]
        },
        {
          "output_type": "display_data",
          "data": {
            "application/vnd.colab-display-data+json": {
              "pip_warning": {
                "packages": [
                  "jax",
                  "jaxlib"
                ]
              },
              "id": "89e841878a404f8c9cfd3bc8438e36ea"
            }
          },
          "metadata": {}
        },
        {
          "output_type": "stream",
          "name": "stdout",
          "text": [
            "Collecting scipy==1.9.0\n",
            "  Downloading scipy-1.9.0-cp310-cp310-manylinux_2_17_x86_64.manylinux2014_x86_64.whl.metadata (2.2 kB)\n",
            "Collecting numpy<1.25.0,>=1.18.5 (from scipy==1.9.0)\n",
            "  Downloading numpy-1.24.4-cp310-cp310-manylinux_2_17_x86_64.manylinux2014_x86_64.whl.metadata (5.6 kB)\n",
            "Downloading scipy-1.9.0-cp310-cp310-manylinux_2_17_x86_64.manylinux2014_x86_64.whl (43.9 MB)\n",
            "\u001b[2K   \u001b[90m━━━━━━━━━━━━━━━━━━━━━━━━━━━━━━━━━━━━━━━━\u001b[0m \u001b[32m43.9/43.9 MB\u001b[0m \u001b[31m18.1 MB/s\u001b[0m eta \u001b[36m0:00:00\u001b[0m\n",
            "\u001b[?25hDownloading numpy-1.24.4-cp310-cp310-manylinux_2_17_x86_64.manylinux2014_x86_64.whl (17.3 MB)\n",
            "\u001b[2K   \u001b[90m━━━━━━━━━━━━━━━━━━━━━━━━━━━━━━━━━━━━━━━━\u001b[0m \u001b[32m17.3/17.3 MB\u001b[0m \u001b[31m87.1 MB/s\u001b[0m eta \u001b[36m0:00:00\u001b[0m\n",
            "\u001b[?25hInstalling collected packages: numpy, scipy\n",
            "  Attempting uninstall: numpy\n",
            "    Found existing installation: numpy 1.26.4\n",
            "    Uninstalling numpy-1.26.4:\n",
            "      Successfully uninstalled numpy-1.26.4\n",
            "  Attempting uninstall: scipy\n",
            "    Found existing installation: scipy 1.13.1\n",
            "    Uninstalling scipy-1.13.1:\n",
            "      Successfully uninstalled scipy-1.13.1\n",
            "\u001b[31mERROR: pip's dependency resolver does not currently take into account all the packages that are installed. This behaviour is the source of the following dependency conflicts.\n",
            "albumentations 1.4.20 requires scipy>=1.10.0, but you have scipy 1.9.0 which is incompatible.\n",
            "chex 0.1.87 requires jax>=0.4.27, but you have jax 0.4.20 which is incompatible.\n",
            "chex 0.1.87 requires jaxlib>=0.4.27, but you have jaxlib 0.4.20 which is incompatible.\n",
            "flax 0.8.5 requires jax>=0.4.27, but you have jax 0.4.20 which is incompatible.\u001b[0m\u001b[31m\n",
            "\u001b[0mSuccessfully installed numpy-1.24.4 scipy-1.9.0\n"
          ]
        },
        {
          "output_type": "display_data",
          "data": {
            "application/vnd.colab-display-data+json": {
              "pip_warning": {
                "packages": [
                  "numpy",
                  "scipy"
                ]
              },
              "id": "83068fdef0e5401d944d5becb0947972"
            }
          },
          "metadata": {}
        },
        {
          "output_type": "stream",
          "name": "stdout",
          "text": [
            "jax                                0.4.20\n",
            "jax-cuda12-pjrt                    0.4.33\n",
            "jax-cuda12-plugin                  0.4.33\n",
            "jaxlib                             0.4.20\n",
            "jaxtyping                          0.2.36\n"
          ]
        }
      ],
      "source": [
        "!pip install git+https://github.com/XanaduAI/GradDFT.git\n",
        "!pip install torch_geometric\n",
        "!pip install optax==0.2.0\n",
        "!pip install jax==0.4.20 jaxlib==0.4.20\n",
        "!pip install scipy==1.9.0\n",
        "!pip list | grep jax"
      ]
    },
    {
      "cell_type": "code",
      "source": [
        "#import os\n",
        "\n",
        "# Mount Google Drive\n",
        "#from google.colab import drive\n",
        "#drive.mount('/content/drive')\n",
        "\n",
        "# Create a folder in the root directory\n",
        "#!mkdir -p \"/content/drive/My Drive/Ethanol_data_MD17\""
      ],
      "metadata": {
        "id": "BhojIuJmH-vK"
      },
      "execution_count": null,
      "outputs": []
    },
    {
      "cell_type": "code",
      "source": [
        "from torch_geometric.datasets import md17\n",
        "import jax\n",
        "from jax import numpy as jnp\n",
        "from jax import grad, jit, vmap\n",
        "from jax import random\n",
        "import math\n",
        "import pdb\n",
        "import numpy as np\n",
        "\n",
        "import grad_dft as gd\n",
        "\n",
        "from grad_dft.functional import canonicalize_inputs, dm21_coefficient_inputs, dm21_densities\n",
        "\n",
        "from grad_dft import (\n",
        "\tenergy_predictor,\n",
        "\tsimple_energy_loss,\n",
        "\tNeuralFunctional,\n",
        "\tmolecule_from_pyscf,\n",
        "  Functional,\n",
        "\tconstraints,\n",
        "\tcanonicalize_inputs,\n",
        ")\n",
        "\n",
        "from pyscf import gto, dft\n",
        "\n",
        "from jax.nn import sigmoid, gelu\n",
        "from jax.random import PRNGKey\n",
        "from jax import value_and_grad\n",
        "from flax import linen as nn\n",
        "from optax import adam, apply_updates, exponential_decay\n",
        "from tqdm import tqdm\n",
        "from jax.flatten_util import ravel_pytree\n",
        "import matplotlib.pyplot as plt\n",
        "\n",
        "from sklearn.model_selection import train_test_split"
      ],
      "metadata": {
        "collapsed": true,
        "id": "fYBhdfQGEBDX",
        "colab": {
          "base_uri": "https://localhost:8080/"
        },
        "outputId": "360c900d-9552-48b6-95b2-7e692ee795ad"
      },
      "execution_count": 1,
      "outputs": [
        {
          "output_type": "stream",
          "name": "stderr",
          "text": [
            "/usr/local/lib/python3.10/dist-packages/grad_dft/molecule.py:344: UserWarning: As of jaxtyping version 0.2.24, jaxtyping now prefers the syntax\n",
            "```\n",
            "from jaxtyping import jaxtyped\n",
            "# Use your favourite typechecker: usually one of the two lines below.\n",
            "from typeguard import typechecked as typechecker\n",
            "from beartype import beartype as typechecker\n",
            "\n",
            "@jaxtyped(typechecker=typechecker)\n",
            "def foo(...):\n",
            "```\n",
            "and the old double-decorator syntax\n",
            "```\n",
            "@jaxtyped\n",
            "@typechecker\n",
            "def foo(...):\n",
            "```\n",
            "should no longer be used. (It will continue to work as it did before, but the new approach will produce more readable error messages.)\n",
            "In particular note that `typechecker` must be passed via keyword argument; the following is not valid:\n",
            "```\n",
            "@jaxtyped(typechecker)\n",
            "def foo(...):\n",
            "```\n",
            "\n",
            "  def orbital_grad(\n",
            "/usr/local/lib/python3.10/dist-packages/grad_dft/molecule.py:388: UserWarning: As of jaxtyping version 0.2.24, jaxtyping now prefers the syntax\n",
            "```\n",
            "from jaxtyping import jaxtyped\n",
            "# Use your favourite typechecker: usually one of the two lines below.\n",
            "from typeguard import typechecked as typechecker\n",
            "from beartype import beartype as typechecker\n",
            "\n",
            "@jaxtyped(typechecker=typechecker)\n",
            "def foo(...):\n",
            "```\n",
            "and the old double-decorator syntax\n",
            "```\n",
            "@jaxtyped\n",
            "@typechecker\n",
            "def foo(...):\n",
            "```\n",
            "should no longer be used. (It will continue to work as it did before, but the new approach will produce more readable error messages.)\n",
            "In particular note that `typechecker` must be passed via keyword argument; the following is not valid:\n",
            "```\n",
            "@jaxtyped(typechecker)\n",
            "def foo(...):\n",
            "```\n",
            "\n",
            "  def density(rdm1: Float[Array, \"spin orbitals orbitals\"],\n",
            "/usr/local/lib/python3.10/dist-packages/grad_dft/molecule.py:414: UserWarning: As of jaxtyping version 0.2.24, jaxtyping now prefers the syntax\n",
            "```\n",
            "from jaxtyping import jaxtyped\n",
            "# Use your favourite typechecker: usually one of the two lines below.\n",
            "from typeguard import typechecked as typechecker\n",
            "from beartype import beartype as typechecker\n",
            "\n",
            "@jaxtyped(typechecker=typechecker)\n",
            "def foo(...):\n",
            "```\n",
            "and the old double-decorator syntax\n",
            "```\n",
            "@jaxtyped\n",
            "@typechecker\n",
            "def foo(...):\n",
            "```\n",
            "should no longer be used. (It will continue to work as it did before, but the new approach will produce more readable error messages.)\n",
            "In particular note that `typechecker` must be passed via keyword argument; the following is not valid:\n",
            "```\n",
            "@jaxtyped(typechecker)\n",
            "def foo(...):\n",
            "```\n",
            "\n",
            "  def grad_density(\n",
            "/usr/local/lib/python3.10/dist-packages/grad_dft/molecule.py:445: UserWarning: As of jaxtyping version 0.2.24, jaxtyping now prefers the syntax\n",
            "```\n",
            "from jaxtyping import jaxtyped\n",
            "# Use your favourite typechecker: usually one of the two lines below.\n",
            "from typeguard import typechecked as typechecker\n",
            "from beartype import beartype as typechecker\n",
            "\n",
            "@jaxtyped(typechecker=typechecker)\n",
            "def foo(...):\n",
            "```\n",
            "and the old double-decorator syntax\n",
            "```\n",
            "@jaxtyped\n",
            "@typechecker\n",
            "def foo(...):\n",
            "```\n",
            "should no longer be used. (It will continue to work as it did before, but the new approach will produce more readable error messages.)\n",
            "In particular note that `typechecker` must be passed via keyword argument; the following is not valid:\n",
            "```\n",
            "@jaxtyped(typechecker)\n",
            "def foo(...):\n",
            "```\n",
            "\n",
            "  def lapl_density(\n",
            "/usr/local/lib/python3.10/dist-packages/grad_dft/molecule.py:479: UserWarning: As of jaxtyping version 0.2.24, jaxtyping now prefers the syntax\n",
            "```\n",
            "from jaxtyping import jaxtyped\n",
            "# Use your favourite typechecker: usually one of the two lines below.\n",
            "from typeguard import typechecked as typechecker\n",
            "from beartype import beartype as typechecker\n",
            "\n",
            "@jaxtyped(typechecker=typechecker)\n",
            "def foo(...):\n",
            "```\n",
            "and the old double-decorator syntax\n",
            "```\n",
            "@jaxtyped\n",
            "@typechecker\n",
            "def foo(...):\n",
            "```\n",
            "should no longer be used. (It will continue to work as it did before, but the new approach will produce more readable error messages.)\n",
            "In particular note that `typechecker` must be passed via keyword argument; the following is not valid:\n",
            "```\n",
            "@jaxtyped(typechecker)\n",
            "def foo(...):\n",
            "```\n",
            "\n",
            "  def kinetic_density(\n",
            "/usr/local/lib/python3.10/dist-packages/grad_dft/molecule.py:507: UserWarning: As of jaxtyping version 0.2.24, jaxtyping now prefers the syntax\n",
            "```\n",
            "from jaxtyping import jaxtyped\n",
            "# Use your favourite typechecker: usually one of the two lines below.\n",
            "from typeguard import typechecked as typechecker\n",
            "from beartype import beartype as typechecker\n",
            "\n",
            "@jaxtyped(typechecker=typechecker)\n",
            "def foo(...):\n",
            "```\n",
            "and the old double-decorator syntax\n",
            "```\n",
            "@jaxtyped\n",
            "@typechecker\n",
            "def foo(...):\n",
            "```\n",
            "should no longer be used. (It will continue to work as it did before, but the new approach will produce more readable error messages.)\n",
            "In particular note that `typechecker` must be passed via keyword argument; the following is not valid:\n",
            "```\n",
            "@jaxtyped(typechecker)\n",
            "def foo(...):\n",
            "```\n",
            "\n",
            "  def HF_energy_density(\n",
            "/usr/local/lib/python3.10/dist-packages/grad_dft/molecule.py:545: UserWarning: As of jaxtyping version 0.2.24, jaxtyping now prefers the syntax\n",
            "```\n",
            "from jaxtyping import jaxtyped\n",
            "# Use your favourite typechecker: usually one of the two lines below.\n",
            "from typeguard import typechecked as typechecker\n",
            "from beartype import beartype as typechecker\n",
            "\n",
            "@jaxtyped(typechecker=typechecker)\n",
            "def foo(...):\n",
            "```\n",
            "and the old double-decorator syntax\n",
            "```\n",
            "@jaxtyped\n",
            "@typechecker\n",
            "def foo(...):\n",
            "```\n",
            "should no longer be used. (It will continue to work as it did before, but the new approach will produce more readable error messages.)\n",
            "In particular note that `typechecker` must be passed via keyword argument; the following is not valid:\n",
            "```\n",
            "@jaxtyped(typechecker)\n",
            "def foo(...):\n",
            "```\n",
            "\n",
            "  def HF_density_grad_2_Fock(\n",
            "/usr/local/lib/python3.10/dist-packages/grad_dft/molecule.py:617: UserWarning: As of jaxtyping version 0.2.24, jaxtyping now prefers the syntax\n",
            "```\n",
            "from jaxtyping import jaxtyped\n",
            "# Use your favourite typechecker: usually one of the two lines below.\n",
            "from typeguard import typechecked as typechecker\n",
            "from beartype import beartype as typechecker\n",
            "\n",
            "@jaxtyped(typechecker=typechecker)\n",
            "def foo(...):\n",
            "```\n",
            "and the old double-decorator syntax\n",
            "```\n",
            "@jaxtyped\n",
            "@typechecker\n",
            "def foo(...):\n",
            "```\n",
            "should no longer be used. (It will continue to work as it did before, but the new approach will produce more readable error messages.)\n",
            "In particular note that `typechecker` must be passed via keyword argument; the following is not valid:\n",
            "```\n",
            "@jaxtyped(typechecker)\n",
            "def foo(...):\n",
            "```\n",
            "\n",
            "  def HF_coefficient_input_grad_2_Fock(\n",
            "/usr/local/lib/python3.10/dist-packages/grad_dft/molecule.py:697: UserWarning: As of jaxtyping version 0.2.24, jaxtyping now prefers the syntax\n",
            "```\n",
            "from jaxtyping import jaxtyped\n",
            "# Use your favourite typechecker: usually one of the two lines below.\n",
            "from typeguard import typechecked as typechecker\n",
            "from beartype import beartype as typechecker\n",
            "\n",
            "@jaxtyped(typechecker=typechecker)\n",
            "def foo(...):\n",
            "```\n",
            "and the old double-decorator syntax\n",
            "```\n",
            "@jaxtyped\n",
            "@typechecker\n",
            "def foo(...):\n",
            "```\n",
            "should no longer be used. (It will continue to work as it did before, but the new approach will produce more readable error messages.)\n",
            "In particular note that `typechecker` must be passed via keyword argument; the following is not valid:\n",
            "```\n",
            "@jaxtyped(typechecker)\n",
            "def foo(...):\n",
            "```\n",
            "\n",
            "  def nonXC(\n",
            "/usr/local/lib/python3.10/dist-packages/grad_dft/molecule.py:738: UserWarning: As of jaxtyping version 0.2.24, jaxtyping now prefers the syntax\n",
            "```\n",
            "from jaxtyping import jaxtyped\n",
            "# Use your favourite typechecker: usually one of the two lines below.\n",
            "from typeguard import typechecked as typechecker\n",
            "from beartype import beartype as typechecker\n",
            "\n",
            "@jaxtyped(typechecker=typechecker)\n",
            "def foo(...):\n",
            "```\n",
            "and the old double-decorator syntax\n",
            "```\n",
            "@jaxtyped\n",
            "@typechecker\n",
            "def foo(...):\n",
            "```\n",
            "should no longer be used. (It will continue to work as it did before, but the new approach will produce more readable error messages.)\n",
            "In particular note that `typechecker` must be passed via keyword argument; the following is not valid:\n",
            "```\n",
            "@jaxtyped(typechecker)\n",
            "def foo(...):\n",
            "```\n",
            "\n",
            "  def one_body_energy(\n",
            "/usr/local/lib/python3.10/dist-packages/grad_dft/molecule.py:763: UserWarning: As of jaxtyping version 0.2.24, jaxtyping now prefers the syntax\n",
            "```\n",
            "from jaxtyping import jaxtyped\n",
            "# Use your favourite typechecker: usually one of the two lines below.\n",
            "from typeguard import typechecked as typechecker\n",
            "from beartype import beartype as typechecker\n",
            "\n",
            "@jaxtyped(typechecker=typechecker)\n",
            "def foo(...):\n",
            "```\n",
            "and the old double-decorator syntax\n",
            "```\n",
            "@jaxtyped\n",
            "@typechecker\n",
            "def foo(...):\n",
            "```\n",
            "should no longer be used. (It will continue to work as it did before, but the new approach will produce more readable error messages.)\n",
            "In particular note that `typechecker` must be passed via keyword argument; the following is not valid:\n",
            "```\n",
            "@jaxtyped(typechecker)\n",
            "def foo(...):\n",
            "```\n",
            "\n",
            "  def coulomb_energy(\n",
            "/usr/local/lib/python3.10/dist-packages/grad_dft/molecule.py:788: UserWarning: As of jaxtyping version 0.2.24, jaxtyping now prefers the syntax\n",
            "```\n",
            "from jaxtyping import jaxtyped\n",
            "# Use your favourite typechecker: usually one of the two lines below.\n",
            "from typeguard import typechecked as typechecker\n",
            "from beartype import beartype as typechecker\n",
            "\n",
            "@jaxtyped(typechecker=typechecker)\n",
            "def foo(...):\n",
            "```\n",
            "and the old double-decorator syntax\n",
            "```\n",
            "@jaxtyped\n",
            "@typechecker\n",
            "def foo(...):\n",
            "```\n",
            "should no longer be used. (It will continue to work as it did before, but the new approach will produce more readable error messages.)\n",
            "In particular note that `typechecker` must be passed via keyword argument; the following is not valid:\n",
            "```\n",
            "@jaxtyped(typechecker)\n",
            "def foo(...):\n",
            "```\n",
            "\n",
            "  def coulomb_potential(\n",
            "/usr/local/lib/python3.10/dist-packages/grad_dft/molecule.py:816: UserWarning: As of jaxtyping version 0.2.24, jaxtyping now prefers the syntax\n",
            "```\n",
            "from jaxtyping import jaxtyped\n",
            "# Use your favourite typechecker: usually one of the two lines below.\n",
            "from typeguard import typechecked as typechecker\n",
            "from beartype import beartype as typechecker\n",
            "\n",
            "@jaxtyped(typechecker=typechecker)\n",
            "def foo(...):\n",
            "```\n",
            "and the old double-decorator syntax\n",
            "```\n",
            "@jaxtyped\n",
            "@typechecker\n",
            "def foo(...):\n",
            "```\n",
            "should no longer be used. (It will continue to work as it did before, but the new approach will produce more readable error messages.)\n",
            "In particular note that `typechecker` must be passed via keyword argument; the following is not valid:\n",
            "```\n",
            "@jaxtyped(typechecker)\n",
            "def foo(...):\n",
            "```\n",
            "\n",
            "  def make_rdm1(\n",
            "/usr/local/lib/python3.10/dist-packages/grad_dft/molecule.py:851: UserWarning: As of jaxtyping version 0.2.24, jaxtyping now prefers the syntax\n",
            "```\n",
            "from jaxtyping import jaxtyped\n",
            "# Use your favourite typechecker: usually one of the two lines below.\n",
            "from typeguard import typechecked as typechecker\n",
            "from beartype import beartype as typechecker\n",
            "\n",
            "@jaxtyped(typechecker=typechecker)\n",
            "def foo(...):\n",
            "```\n",
            "and the old double-decorator syntax\n",
            "```\n",
            "@jaxtyped\n",
            "@typechecker\n",
            "def foo(...):\n",
            "```\n",
            "should no longer be used. (It will continue to work as it did before, but the new approach will produce more readable error messages.)\n",
            "In particular note that `typechecker` must be passed via keyword argument; the following is not valid:\n",
            "```\n",
            "@jaxtyped(typechecker)\n",
            "def foo(...):\n",
            "```\n",
            "\n",
            "  def get_occ(\n",
            "/usr/local/lib/python3.10/dist-packages/grad_dft/solid.py:272: UserWarning: As of jaxtyping version 0.2.24, jaxtyping now prefers the syntax\n",
            "```\n",
            "from jaxtyping import jaxtyped\n",
            "# Use your favourite typechecker: usually one of the two lines below.\n",
            "from typeguard import typechecked as typechecker\n",
            "from beartype import beartype as typechecker\n",
            "\n",
            "@jaxtyped(typechecker=typechecker)\n",
            "def foo(...):\n",
            "```\n",
            "and the old double-decorator syntax\n",
            "```\n",
            "@jaxtyped\n",
            "@typechecker\n",
            "def foo(...):\n",
            "```\n",
            "should no longer be used. (It will continue to work as it did before, but the new approach will produce more readable error messages.)\n",
            "In particular note that `typechecker` must be passed via keyword argument; the following is not valid:\n",
            "```\n",
            "@jaxtyped(typechecker)\n",
            "def foo(...):\n",
            "```\n",
            "\n",
            "  def one_body_energy(\n",
            "/usr/local/lib/python3.10/dist-packages/grad_dft/solid.py:302: UserWarning: As of jaxtyping version 0.2.24, jaxtyping now prefers the syntax\n",
            "```\n",
            "from jaxtyping import jaxtyped\n",
            "# Use your favourite typechecker: usually one of the two lines below.\n",
            "from typeguard import typechecked as typechecker\n",
            "from beartype import beartype as typechecker\n",
            "\n",
            "@jaxtyped(typechecker=typechecker)\n",
            "def foo(...):\n",
            "```\n",
            "and the old double-decorator syntax\n",
            "```\n",
            "@jaxtyped\n",
            "@typechecker\n",
            "def foo(...):\n",
            "```\n",
            "should no longer be used. (It will continue to work as it did before, but the new approach will produce more readable error messages.)\n",
            "In particular note that `typechecker` must be passed via keyword argument; the following is not valid:\n",
            "```\n",
            "@jaxtyped(typechecker)\n",
            "def foo(...):\n",
            "```\n",
            "\n",
            "  def coulomb_potential(\n",
            "/usr/local/lib/python3.10/dist-packages/grad_dft/solid.py:333: UserWarning: As of jaxtyping version 0.2.24, jaxtyping now prefers the syntax\n",
            "```\n",
            "from jaxtyping import jaxtyped\n",
            "# Use your favourite typechecker: usually one of the two lines below.\n",
            "from typeguard import typechecked as typechecker\n",
            "from beartype import beartype as typechecker\n",
            "\n",
            "@jaxtyped(typechecker=typechecker)\n",
            "def foo(...):\n",
            "```\n",
            "and the old double-decorator syntax\n",
            "```\n",
            "@jaxtyped\n",
            "@typechecker\n",
            "def foo(...):\n",
            "```\n",
            "should no longer be used. (It will continue to work as it did before, but the new approach will produce more readable error messages.)\n",
            "In particular note that `typechecker` must be passed via keyword argument; the following is not valid:\n",
            "```\n",
            "@jaxtyped(typechecker)\n",
            "def foo(...):\n",
            "```\n",
            "\n",
            "  def coulomb_energy(\n",
            "/usr/local/lib/python3.10/dist-packages/grad_dft/solid.py:367: UserWarning: As of jaxtyping version 0.2.24, jaxtyping now prefers the syntax\n",
            "```\n",
            "from jaxtyping import jaxtyped\n",
            "# Use your favourite typechecker: usually one of the two lines below.\n",
            "from typeguard import typechecked as typechecker\n",
            "from beartype import beartype as typechecker\n",
            "\n",
            "@jaxtyped(typechecker=typechecker)\n",
            "def foo(...):\n",
            "```\n",
            "and the old double-decorator syntax\n",
            "```\n",
            "@jaxtyped\n",
            "@typechecker\n",
            "def foo(...):\n",
            "```\n",
            "should no longer be used. (It will continue to work as it did before, but the new approach will produce more readable error messages.)\n",
            "In particular note that `typechecker` must be passed via keyword argument; the following is not valid:\n",
            "```\n",
            "@jaxtyped(typechecker)\n",
            "def foo(...):\n",
            "```\n",
            "\n",
            "  def non_xc(\n",
            "/usr/local/lib/python3.10/dist-packages/grad_dft/solid.py:413: UserWarning: As of jaxtyping version 0.2.24, jaxtyping now prefers the syntax\n",
            "```\n",
            "from jaxtyping import jaxtyped\n",
            "# Use your favourite typechecker: usually one of the two lines below.\n",
            "from typeguard import typechecked as typechecker\n",
            "from beartype import beartype as typechecker\n",
            "\n",
            "@jaxtyped(typechecker=typechecker)\n",
            "def foo(...):\n",
            "```\n",
            "and the old double-decorator syntax\n",
            "```\n",
            "@jaxtyped\n",
            "@typechecker\n",
            "def foo(...):\n",
            "```\n",
            "should no longer be used. (It will continue to work as it did before, but the new approach will produce more readable error messages.)\n",
            "In particular note that `typechecker` must be passed via keyword argument; the following is not valid:\n",
            "```\n",
            "@jaxtyped(typechecker)\n",
            "def foo(...):\n",
            "```\n",
            "\n",
            "  def make_rdm1(\n",
            "/usr/local/lib/python3.10/dist-packages/grad_dft/solid.py:438: UserWarning: As of jaxtyping version 0.2.24, jaxtyping now prefers the syntax\n",
            "```\n",
            "from jaxtyping import jaxtyped\n",
            "# Use your favourite typechecker: usually one of the two lines below.\n",
            "from typeguard import typechecked as typechecker\n",
            "from beartype import beartype as typechecker\n",
            "\n",
            "@jaxtyped(typechecker=typechecker)\n",
            "def foo(...):\n",
            "```\n",
            "and the old double-decorator syntax\n",
            "```\n",
            "@jaxtyped\n",
            "@typechecker\n",
            "def foo(...):\n",
            "```\n",
            "should no longer be used. (It will continue to work as it did before, but the new approach will produce more readable error messages.)\n",
            "In particular note that `typechecker` must be passed via keyword argument; the following is not valid:\n",
            "```\n",
            "@jaxtyped(typechecker)\n",
            "def foo(...):\n",
            "```\n",
            "\n",
            "  def get_occ(\n",
            "/usr/local/lib/python3.10/dist-packages/grad_dft/solid.py:491: UserWarning: As of jaxtyping version 0.2.24, jaxtyping now prefers the syntax\n",
            "```\n",
            "from jaxtyping import jaxtyped\n",
            "# Use your favourite typechecker: usually one of the two lines below.\n",
            "from typeguard import typechecked as typechecker\n",
            "from beartype import beartype as typechecker\n",
            "\n",
            "@jaxtyped(typechecker=typechecker)\n",
            "def foo(...):\n",
            "```\n",
            "and the old double-decorator syntax\n",
            "```\n",
            "@jaxtyped\n",
            "@typechecker\n",
            "def foo(...):\n",
            "```\n",
            "should no longer be used. (It will continue to work as it did before, but the new approach will produce more readable error messages.)\n",
            "In particular note that `typechecker` must be passed via keyword argument; the following is not valid:\n",
            "```\n",
            "@jaxtyped(typechecker)\n",
            "def foo(...):\n",
            "```\n",
            "\n",
            "  def density(rdm1: Complex[Array, \"n_spin n_kpt n_orbitals n_orbitals\"],\n",
            "/usr/local/lib/python3.10/dist-packages/grad_dft/solid.py:523: UserWarning: As of jaxtyping version 0.2.24, jaxtyping now prefers the syntax\n",
            "```\n",
            "from jaxtyping import jaxtyped\n",
            "# Use your favourite typechecker: usually one of the two lines below.\n",
            "from typeguard import typechecked as typechecker\n",
            "from beartype import beartype as typechecker\n",
            "\n",
            "@jaxtyped(typechecker=typechecker)\n",
            "def foo(...):\n",
            "```\n",
            "and the old double-decorator syntax\n",
            "```\n",
            "@jaxtyped\n",
            "@typechecker\n",
            "def foo(...):\n",
            "```\n",
            "should no longer be used. (It will continue to work as it did before, but the new approach will produce more readable error messages.)\n",
            "In particular note that `typechecker` must be passed via keyword argument; the following is not valid:\n",
            "```\n",
            "@jaxtyped(typechecker)\n",
            "def foo(...):\n",
            "```\n",
            "\n",
            "  def grad_density(\n",
            "/usr/local/lib/python3.10/dist-packages/grad_dft/solid.py:560: UserWarning: As of jaxtyping version 0.2.24, jaxtyping now prefers the syntax\n",
            "```\n",
            "from jaxtyping import jaxtyped\n",
            "# Use your favourite typechecker: usually one of the two lines below.\n",
            "from typeguard import typechecked as typechecker\n",
            "from beartype import beartype as typechecker\n",
            "\n",
            "@jaxtyped(typechecker=typechecker)\n",
            "def foo(...):\n",
            "```\n",
            "and the old double-decorator syntax\n",
            "```\n",
            "@jaxtyped\n",
            "@typechecker\n",
            "def foo(...):\n",
            "```\n",
            "should no longer be used. (It will continue to work as it did before, but the new approach will produce more readable error messages.)\n",
            "In particular note that `typechecker` must be passed via keyword argument; the following is not valid:\n",
            "```\n",
            "@jaxtyped(typechecker)\n",
            "def foo(...):\n",
            "```\n",
            "\n",
            "  def lapl_density(\n",
            "/usr/local/lib/python3.10/dist-packages/grad_dft/solid.py:600: UserWarning: As of jaxtyping version 0.2.24, jaxtyping now prefers the syntax\n",
            "```\n",
            "from jaxtyping import jaxtyped\n",
            "# Use your favourite typechecker: usually one of the two lines below.\n",
            "from typeguard import typechecked as typechecker\n",
            "from beartype import beartype as typechecker\n",
            "\n",
            "@jaxtyped(typechecker=typechecker)\n",
            "def foo(...):\n",
            "```\n",
            "and the old double-decorator syntax\n",
            "```\n",
            "@jaxtyped\n",
            "@typechecker\n",
            "def foo(...):\n",
            "```\n",
            "should no longer be used. (It will continue to work as it did before, but the new approach will produce more readable error messages.)\n",
            "In particular note that `typechecker` must be passed via keyword argument; the following is not valid:\n",
            "```\n",
            "@jaxtyped(typechecker)\n",
            "def foo(...):\n",
            "```\n",
            "\n",
            "  def kinetic_density(\n",
            "/usr/local/lib/python3.10/dist-packages/grad_dft/solid.py:634: UserWarning: As of jaxtyping version 0.2.24, jaxtyping now prefers the syntax\n",
            "```\n",
            "from jaxtyping import jaxtyped\n",
            "# Use your favourite typechecker: usually one of the two lines below.\n",
            "from typeguard import typechecked as typechecker\n",
            "from beartype import beartype as typechecker\n",
            "\n",
            "@jaxtyped(typechecker=typechecker)\n",
            "def foo(...):\n",
            "```\n",
            "and the old double-decorator syntax\n",
            "```\n",
            "@jaxtyped\n",
            "@typechecker\n",
            "def foo(...):\n",
            "```\n",
            "should no longer be used. (It will continue to work as it did before, but the new approach will produce more readable error messages.)\n",
            "In particular note that `typechecker` must be passed via keyword argument; the following is not valid:\n",
            "```\n",
            "@jaxtyped(typechecker)\n",
            "def foo(...):\n",
            "```\n",
            "\n",
            "  def orbital_grad(\n",
            "ERROR:jax._src.xla_bridge:Jax plugin configuration error: Exception when calling jax_plugins.xla_cuda12.initialize()\n",
            "Traceback (most recent call last):\n",
            "  File \"/usr/local/lib/python3.10/dist-packages/jax/_src/xla_bridge.py\", line 442, in discover_pjrt_plugins\n",
            "    plugin_module.initialize()\n",
            "  File \"/usr/local/lib/python3.10/dist-packages/jax_plugins/xla_cuda12/__init__.py\", line 85, in initialize\n",
            "    options = xla_client.generate_pjrt_gpu_plugin_options()\n",
            "AttributeError: module 'jaxlib.xla_client' has no attribute 'generate_pjrt_gpu_plugin_options'\n",
            "/usr/local/lib/python3.10/dist-packages/grad_dft/functional.py:679: UserWarning: As of jaxtyping version 0.2.24, jaxtyping now prefers the syntax\n",
            "```\n",
            "from jaxtyping import jaxtyped\n",
            "# Use your favourite typechecker: usually one of the two lines below.\n",
            "from typeguard import typechecked as typechecker\n",
            "from beartype import beartype as typechecker\n",
            "\n",
            "@jaxtyped(typechecker=typechecker)\n",
            "def foo(...):\n",
            "```\n",
            "and the old double-decorator syntax\n",
            "```\n",
            "@jaxtyped\n",
            "@typechecker\n",
            "def foo(...):\n",
            "```\n",
            "should no longer be used. (It will continue to work as it did before, but the new approach will produce more readable error messages.)\n",
            "In particular note that `typechecker` must be passed via keyword argument; the following is not valid:\n",
            "```\n",
            "@jaxtyped(typechecker)\n",
            "def foo(...):\n",
            "```\n",
            "\n",
            "  def dm21_hfgrads_densities(\n",
            "/usr/local/lib/python3.10/dist-packages/grad_dft/functional.py:721: UserWarning: As of jaxtyping version 0.2.24, jaxtyping now prefers the syntax\n",
            "```\n",
            "from jaxtyping import jaxtyped\n",
            "# Use your favourite typechecker: usually one of the two lines below.\n",
            "from typeguard import typechecked as typechecker\n",
            "from beartype import beartype as typechecker\n",
            "\n",
            "@jaxtyped(typechecker=typechecker)\n",
            "def foo(...):\n",
            "```\n",
            "and the old double-decorator syntax\n",
            "```\n",
            "@jaxtyped\n",
            "@typechecker\n",
            "def foo(...):\n",
            "```\n",
            "should no longer be used. (It will continue to work as it did before, but the new approach will produce more readable error messages.)\n",
            "In particular note that `typechecker` must be passed via keyword argument; the following is not valid:\n",
            "```\n",
            "@jaxtyped(typechecker)\n",
            "def foo(...):\n",
            "```\n",
            "\n",
            "  def dm21_hfgrads_cinputs(\n",
            "WARNING:tensorflow:From /usr/local/lib/python3.10/dist-packages/tensorflow/python/compat/v2_compat.py:108: disable_resource_variables (from tensorflow.python.ops.variable_scope) is deprecated and will be removed in a future version.\n",
            "Instructions for updating:\n",
            "non-resource variables are not supported in the long term\n",
            "/usr/local/lib/python3.10/dist-packages/grad_dft/popular_functionals.py:330: UserWarning: As of jaxtyping version 0.2.24, jaxtyping now prefers the syntax\n",
            "```\n",
            "from jaxtyping import jaxtyped\n",
            "# Use your favourite typechecker: usually one of the two lines below.\n",
            "from typeguard import typechecked as typechecker\n",
            "from beartype import beartype as typechecker\n",
            "\n",
            "@jaxtyped(typechecker=typechecker)\n",
            "def foo(...):\n",
            "```\n",
            "and the old double-decorator syntax\n",
            "```\n",
            "@jaxtyped\n",
            "@typechecker\n",
            "def foo(...):\n",
            "```\n",
            "should no longer be used. (It will continue to work as it did before, but the new approach will produce more readable error messages.)\n",
            "In particular note that `typechecker` must be passed via keyword argument; the following is not valid:\n",
            "```\n",
            "@jaxtyped(typechecker)\n",
            "def foo(...):\n",
            "```\n",
            "\n",
            "  def b3lyp_combine(features: Float[Array, \"grid densities\"], ehf: Float[Array, \"omega spin grid\"]) -> Float[Array, \"grid densities+1\"]:\n"
          ]
        }
      ]
    },
    {
      "cell_type": "code",
      "source": [
        "if hasattr(jax, 'tree'):\n",
        "    print(\"JAX has the tree module.\")\n",
        "else:\n",
        "    print(\"JAX does not have the tree module.\")\n",
        "\n",
        "\n",
        "if hasattr(jax, 'tree_map'):\n",
        "    print(\"JAX has the tree_map function.\")\n",
        "else:\n",
        "    print(\"JAX does not have the tree_map function.\")"
      ],
      "metadata": {
        "colab": {
          "base_uri": "https://localhost:8080/"
        },
        "id": "5e00Z4Hxre36",
        "outputId": "03e1255a-c078-42cf-9d4a-3a919963bce4"
      },
      "execution_count": 2,
      "outputs": [
        {
          "output_type": "stream",
          "name": "stdout",
          "text": [
            "JAX does not have the tree module.\n",
            "JAX has the tree_map function.\n"
          ]
        }
      ]
    },
    {
      "cell_type": "markdown",
      "source": [
        "# Training using GradDFT and direct optimization\n",
        "\n",
        "In this notebook example, we will run through the different strategies that can be used to train a Neural functional for the exchange-correlation functional in Grad DFT. Using molecules such as ethanol as training molecules, we will study how a neural functional can generalize to calculating the total energy. More generally, the workflow is:\n",
        "\n",
        "\n",
        "1.   Generate molecule train/test dataset and acquire required properties.\n",
        "2.   Use GradDFT library to train the neural network for the coefficients corresponding to energy densities (We use LDA for energy densities) which together forms the exchange-correlation functional under integration\n",
        "3.  After training, we test the learned functional to try to predict the energy for the test conformations using SCF or direct optimization. For example, by directly minimizing\n",
        "$$\n",
        "min_{C} E(C)\n",
        "$$\n",
        "subject to the orthonormality constraint of the molecular orbitals\n",
        "$$\n",
        "C^TSC = 1.\n",
        "$$\n"
      ],
      "metadata": {
        "id": "F92X5LhbGaX0"
      }
    },
    {
      "cell_type": "markdown",
      "source": [
        "## Generate Training/Testing Data\n",
        "\n",
        "The data were acuiqred from MD17 dataset. According to their documentation, the energies of molecules of MD17 dataset were calculated at the PBE/def2-SVP level of theory using very tight SCF convergence and very dense DFT integration grid. We provide functions below to acquire data and return corresponding PySCF/GradDFT objects for future use"
      ],
      "metadata": {
        "id": "jeH5oh_AF12X"
      }
    },
    {
      "cell_type": "code",
      "source": [
        "ethanol_dataset = md17.MD17(root='.', name='ethanol')"
      ],
      "metadata": {
        "id": "KsJJo6smGQWO",
        "colab": {
          "base_uri": "https://localhost:8080/"
        },
        "outputId": "eccb5242-9758-4f89-d514-fce9396427b7"
      },
      "execution_count": 3,
      "outputs": [
        {
          "output_type": "stream",
          "name": "stderr",
          "text": [
            "Downloading http://quantum-machine.org/gdml/data/npz/md17_ethanol.npz\n",
            "Processing...\n",
            "Done!\n"
          ]
        }
      ]
    },
    {
      "cell_type": "code",
      "source": [
        "def obtain_data(num_data, data_set, atomic_symbols):\n",
        "  'Takes a number of molecules randomly from dataset provided and returning the PySCF/GradDFT molecule objects'\n",
        "  molecules = []\n",
        "  ground_energies = []\n",
        "  #Randomly select a number of indices\n",
        "  indices = np.random.choice(len(data_set), num_data, replace=False) #choose uniformly\n",
        "  selected_samples = [data_set[i] for i in indices]\n",
        "  counter = 1\n",
        "  # Define atomic symbols for the corresponding atomic numbers in MD17 dataset for ethanol\n",
        "  for sample in selected_samples:\n",
        "    position = sample.pos\n",
        "    atomic_number = sample.z\n",
        "\n",
        "    # Start building the molecule description string\n",
        "    atom_desc = ''\n",
        "    for z, pos in zip(atomic_number, position):\n",
        "      #print(z.item())\n",
        "      #print(pos)\n",
        "      if z.item() in atomic_symbols:\n",
        "        symbol = atomic_symbols[z.item()]  # Get symbol using atomic number\n",
        "        atom_desc += f'{symbol} {pos[0]:.4f} {pos[1]:.4f} {pos[2]:.4f}\\n'\n",
        "      else:\n",
        "        raise ValueError(f\"Unrecognized atomic number {z.item()} found, unable to proceed with molecule creation.\")\n",
        "    # Create a PySCF molecule object\n",
        "    mol = gto.M(atom=atom_desc, basis='def2-svp', unit='Ang', spin = 0, verbose=0) #setting up according to the documation of original data set\n",
        "    mf = dft.RKS(mol)\n",
        "    #temp = mf.get_ovlp()\n",
        "    mf.kernel()\n",
        "    molecule = molecule_from_pyscf(mf)\n",
        "    molecules.append(molecule)\n",
        "    print('We are at number:' + str(counter))\n",
        "    ground_energies.append(sample.energy.item()/627.509) #unit conversion from kcal/mol to Hartree\n",
        "    counter += 1\n",
        "  return molecules, ground_energies\n",
        "\n",
        "#loading PySCF data from MD17\n",
        "ethanol_atomic_symbols = {1: 'H', 6: 'C', 8: 'O'}\n",
        "train_data, ground_energy_train  = obtain_data(2, ethanol_dataset, ethanol_atomic_symbols)\n",
        "#test_data, ground_energy_test = obtain_data(2, ethanol_dataset, ethanol_atomic_symbols)"
      ],
      "metadata": {
        "collapsed": true,
        "id": "5bympRlKJ5o1",
        "colab": {
          "base_uri": "https://localhost:8080/"
        },
        "outputId": "19c0959f-8db7-4668-cbf5-95f44d029d1c"
      },
      "execution_count": 4,
      "outputs": [
        {
          "output_type": "stream",
          "name": "stdout",
          "text": [
            "We are at number:1\n",
            "We are at number:2\n"
          ]
        }
      ]
    },
    {
      "cell_type": "code",
      "source": [
        "print((train_data[0].rdm1))"
      ],
      "metadata": {
        "colab": {
          "base_uri": "https://localhost:8080/"
        },
        "id": "aXloYvKNiw_e",
        "outputId": "d4e531e9-8416-4e87-b5c9-ac2612907bc9"
      },
      "execution_count": null,
      "outputs": [
        {
          "output_type": "stream",
          "name": "stdout",
          "text": [
            "[[[ 1.0353788e+00 -7.1560204e-02 -8.1028529e-02 ...  6.4449290e-05\n",
            "   -1.3912033e-03 -2.5423581e-04]\n",
            "  [-7.1560204e-02  2.7252427e-01  6.7375220e-02 ... -1.6549071e-03\n",
            "    2.4816061e-03 -1.9924720e-03]\n",
            "  [-8.1028529e-02  6.7375220e-02  3.3840325e-02 ... -2.6163461e-03\n",
            "    6.3913752e-04 -5.5739534e-04]\n",
            "  ...\n",
            "  [ 6.4449290e-05 -1.6549071e-03 -2.6163461e-03 ...  9.3726866e-04\n",
            "    4.6705969e-05 -1.7654274e-04]\n",
            "  [-1.3912033e-03  2.4816061e-03  6.3913752e-04 ...  4.6705969e-05\n",
            "    1.7476031e-03  9.3158647e-05]\n",
            "  [-2.5423581e-04 -1.9924720e-03 -5.5739534e-04 ... -1.7654274e-04\n",
            "    9.3158647e-05  9.5177034e-04]]\n",
            "\n",
            " [[ 1.0353788e+00 -7.1560204e-02 -8.1028529e-02 ...  6.4449290e-05\n",
            "   -1.3912033e-03 -2.5423581e-04]\n",
            "  [-7.1560204e-02  2.7252427e-01  6.7375220e-02 ... -1.6549071e-03\n",
            "    2.4816061e-03 -1.9924720e-03]\n",
            "  [-8.1028529e-02  6.7375220e-02  3.3840325e-02 ... -2.6163461e-03\n",
            "    6.3913752e-04 -5.5739534e-04]\n",
            "  ...\n",
            "  [ 6.4449290e-05 -1.6549071e-03 -2.6163461e-03 ...  9.3726866e-04\n",
            "    4.6705969e-05 -1.7654274e-04]\n",
            "  [-1.3912033e-03  2.4816061e-03  6.3913752e-04 ...  4.6705969e-05\n",
            "    1.7476031e-03  9.3158647e-05]\n",
            "  [-2.5423581e-04 -1.9924720e-03 -5.5739534e-04 ... -1.7654274e-04\n",
            "    9.3158647e-05  9.5177034e-04]]]\n"
          ]
        }
      ]
    },
    {
      "cell_type": "markdown",
      "source": [
        "## Training Phase"
      ],
      "metadata": {
        "id": "cjqH2R7fKUyE"
      }
    },
    {
      "cell_type": "code",
      "source": [
        "def energy_densities(molecule):\n",
        "    rho = molecule.density()\n",
        "    lda_e = -3/2 * (3/(4*jnp.pi))**(1/3) * (rho**(4/3)).sum(axis = 1, keepdims = True) #\n",
        "    return lda_e\n",
        "\n",
        "def coefficient_inputs(molecule, clip_cte = 1e-40):\n",
        "    rho = molecule.density()\n",
        "    # We need to clip rho away from 0 to obtain good gradients.\n",
        "    rho = jnp.maximum(abs(rho), clip_cte) * jnp.sign(rho)\n",
        "    grad_rho = molecule.grad_density()\n",
        "    tau = molecule.kinetic_density()\n",
        "    grad_rho_norm = jnp.sum(grad_rho**2, axis=-1) # \\sum_j^{spin=2} (grad_rho_{ij})^2\n",
        "    grad_rho_norm_sumspin = jnp.sum(grad_rho.sum(axis=1, keepdims=True) ** 2, axis=-1) # (\\sum_j^{spin=2} (grad_rho_{ij}))^2\n",
        "    features = jnp.concatenate((rho, grad_rho_norm_sumspin, grad_rho_norm, tau), axis=1)\n",
        "    return features\n",
        "\n",
        "# def coefficients(self, rhoinputs):\n",
        "#     x = nn.Dense(features=2)(rhoinputs)\n",
        "#     x = nn.LayerNorm()(x)\n",
        "#     return gelu(x) # using gelu as activation function\n",
        "\n",
        "class MLP(nn.Module):\n",
        "    features: int = 2\n",
        "\n",
        "    def setup(self):\n",
        "      self.dense = nn.Dense(self.features)\n",
        "      self.norm = nn.LayerNorm()\n",
        "\n",
        "    def __call__(self, rhoinputs, *args):\n",
        "      x = self.dense(*args)\n",
        "      x = self.norm(x)\n",
        "      return gelu(x)\n",
        "\n",
        "coefficients = MLP(features=2)\n",
        "\n",
        "neuralfunctional = NeuralFunctional(coefficients, energy_densities, coefficient_inputs)"
      ],
      "metadata": {
        "id": "TPlaJ5a7KXDW"
      },
      "execution_count": 10,
      "outputs": []
    },
    {
      "cell_type": "code",
      "source": [
        "seed = 40\n",
        "key = jax.random.PRNGKey(seed)\n",
        "cinputs = [coefficient_inputs(molecule) for molecule in train_data]\n",
        "params_train = [neuralfunctional.init(key, each_cinputs) for each_cinputs in cinputs]\n",
        "# print(params_train[0]['params'])\n",
        "# print(params_train[0]['params']['Dense_0']['kernel'].shape)\n",
        "\n",
        "#predicted_energy = neuralfunctional.energy(params, molecule)"
      ],
      "metadata": {
        "id": "U3hVNAE6dofE"
      },
      "execution_count": 11,
      "outputs": []
    },
    {
      "cell_type": "code",
      "source": [
        "# Define optimizer\n",
        "# batch_size = 32\n",
        "n_epochs, learning_rate, momentum = 100, 1e-2, 0.9\n",
        "schedule = exponential_decay(init_value=1e-2, transition_steps=20, decay_rate=0.9, staircase=True)\n",
        "optimizer = adam(learning_rate=learning_rate, b1=momentum)\n",
        "#opt_state = optimizer.init(params_train)\n",
        "opt_state = [optimizer.init(params) for params in params_train] # init for each training molecule\n",
        "compute_energy = energy_predictor(neuralfunctional)\n",
        "state = (params_train, opt_state) # params_train is a list with each train moluecule params\n",
        "#print(state[1])\n",
        "converging_energies = [] # this includes every energy of all training molecules for each epoch\n",
        "losses = []\n",
        "\n",
        "@value_and_grad\n",
        "def SEloss(params, compute_energy, molecule, trueenergy):\n",
        "    predictedenergy, fock_matrix = compute_energy(params, molecule) #returns both the xc and fock matrix\n",
        "    #print(f'now predictedenergy is {predictedenergy.primal} and trueenergy is {trueenergy}')\n",
        "    converging_energies.append(predictedenergy)\n",
        "    return (predictedenergy - trueenergy) ** 2 #sqaured error used"
      ],
      "metadata": {
        "id": "SLpnmp05jtpS"
      },
      "execution_count": 12,
      "outputs": []
    },
    {
      "cell_type": "code",
      "source": [
        "def sum_gradients(grad_list):\n",
        "    grad_sum = grad_list[0]\n",
        "    for grads in grad_list[1:]:\n",
        "        grad_sum = jax.tree_map(jnp.add, grad_sum, grads)\n",
        "    return grad_sum\n",
        "\n",
        "def average_gradients(grad_list):\n",
        "    \"\"\" Average gradients across grad_list. \"\"\"\n",
        "    # Sum all gradients\n",
        "    grad_sum = sum_gradients(grad_list)\n",
        "\n",
        "    # Divide each gradient by the number of batches to get the average\n",
        "    num_grad = len(grad_list)\n",
        "    average_grad = jax.tree_map(lambda x: x / num_grad, grad_sum)\n",
        "\n",
        "    return average_grad\n",
        "\n",
        "\n",
        "def train_epoch(state, optimizer):\n",
        "    r\"\"\"Train for a single epoch.\"\"\"\n",
        "    params, opt_state = state\n",
        "    train_loss = []\n",
        "    train_grad = []\n",
        "    for param, molecule, trueenergy in zip(params, train_data, ground_energy_train):\n",
        "        loss, grads = SEloss(param, compute_energy, molecule, trueenergy)\n",
        "        train_loss.append(loss)\n",
        "        train_grad.append(grads)\n",
        "\n",
        "    loss, grads = jnp.mean(jnp.array(train_loss)), average_gradients(train_grad)\n",
        "    losses.append(loss)\n",
        "    print()\n",
        "    print(loss)\n",
        "\n",
        "    for i in range(len(opt_state)):\n",
        "      updates, opt_state[i] = optimizer.update(grads, opt_state[i])\n",
        "      params[i] = apply_updates(params[i], updates)\n",
        "\n",
        "    state = (params, opt_state)\n",
        "    return state, loss\n",
        "i = 0\n",
        "for iteration in tqdm(range(n_epochs), desc='Training epoch'):\n",
        "\n",
        "    state, loss = train_epoch(state, optimizer)\n",
        "    if loss < 1e-3:\n",
        "      i += 1\n",
        "      if i == 5:\n",
        "        break"
      ],
      "metadata": {
        "colab": {
          "base_uri": "https://localhost:8080/"
        },
        "id": "QaezOZ5glhyI",
        "outputId": "0e7451a4-4ef0-409f-dae0-5dccc2387bb8"
      },
      "execution_count": 13,
      "outputs": [
        {
          "output_type": "stream",
          "name": "stderr",
          "text": [
            "Training epoch:   1%|          | 1/100 [00:12<21:18, 12.91s/it]"
          ]
        },
        {
          "output_type": "stream",
          "name": "stdout",
          "text": [
            "\n",
            "82.411575\n"
          ]
        },
        {
          "output_type": "stream",
          "name": "stderr",
          "text": [
            "\rTraining epoch:   2%|▏         | 2/100 [00:26<21:38, 13.26s/it]"
          ]
        },
        {
          "output_type": "stream",
          "name": "stdout",
          "text": [
            "\n",
            "71.6445\n"
          ]
        },
        {
          "output_type": "stream",
          "name": "stderr",
          "text": [
            "\rTraining epoch:   3%|▎         | 3/100 [00:39<21:31, 13.32s/it]"
          ]
        },
        {
          "output_type": "stream",
          "name": "stdout",
          "text": [
            "\n",
            "64.76906\n"
          ]
        },
        {
          "output_type": "stream",
          "name": "stderr",
          "text": [
            "\rTraining epoch:   4%|▍         | 4/100 [00:53<21:17, 13.31s/it]"
          ]
        },
        {
          "output_type": "stream",
          "name": "stdout",
          "text": [
            "\n",
            "57.966644\n"
          ]
        },
        {
          "output_type": "stream",
          "name": "stderr",
          "text": [
            "\rTraining epoch:   5%|▌         | 5/100 [01:06<20:55, 13.22s/it]"
          ]
        },
        {
          "output_type": "stream",
          "name": "stdout",
          "text": [
            "\n",
            "51.560257\n"
          ]
        },
        {
          "output_type": "stream",
          "name": "stderr",
          "text": [
            "\rTraining epoch:   6%|▌         | 6/100 [01:19<20:37, 13.17s/it]"
          ]
        },
        {
          "output_type": "stream",
          "name": "stdout",
          "text": [
            "\n",
            "45.594475\n"
          ]
        },
        {
          "output_type": "stream",
          "name": "stderr",
          "text": [
            "\rTraining epoch:   7%|▋         | 7/100 [01:32<20:19, 13.11s/it]"
          ]
        },
        {
          "output_type": "stream",
          "name": "stdout",
          "text": [
            "\n",
            "40.0278\n"
          ]
        },
        {
          "output_type": "stream",
          "name": "stderr",
          "text": [
            "\rTraining epoch:   8%|▊         | 8/100 [01:45<20:02, 13.07s/it]"
          ]
        },
        {
          "output_type": "stream",
          "name": "stdout",
          "text": [
            "\n",
            "34.851685\n"
          ]
        },
        {
          "output_type": "stream",
          "name": "stderr",
          "text": [
            "\rTraining epoch:   9%|▉         | 9/100 [02:04<22:47, 15.03s/it]"
          ]
        },
        {
          "output_type": "stream",
          "name": "stdout",
          "text": [
            "\n",
            "30.087337\n"
          ]
        },
        {
          "output_type": "stream",
          "name": "stderr",
          "text": [
            "\rTraining epoch:  10%|█         | 10/100 [02:39<31:49, 21.21s/it]"
          ]
        },
        {
          "output_type": "stream",
          "name": "stdout",
          "text": [
            "\n",
            "25.647682\n"
          ]
        },
        {
          "output_type": "stream",
          "name": "stderr",
          "text": [
            "\rTraining epoch:  11%|█         | 11/100 [03:06<33:54, 22.86s/it]"
          ]
        },
        {
          "output_type": "stream",
          "name": "stdout",
          "text": [
            "\n",
            "21.60712\n"
          ]
        },
        {
          "output_type": "stream",
          "name": "stderr",
          "text": [
            "\rTraining epoch:  12%|█▏        | 12/100 [03:19<29:21, 20.02s/it]"
          ]
        },
        {
          "output_type": "stream",
          "name": "stdout",
          "text": [
            "\n",
            "17.962967\n"
          ]
        },
        {
          "output_type": "stream",
          "name": "stderr",
          "text": [
            "\rTraining epoch:  13%|█▎        | 13/100 [03:32<25:57, 17.91s/it]"
          ]
        },
        {
          "output_type": "stream",
          "name": "stdout",
          "text": [
            "\n",
            "14.694353\n"
          ]
        },
        {
          "output_type": "stream",
          "name": "stderr",
          "text": [
            "\rTraining epoch:  14%|█▍        | 14/100 [03:45<23:34, 16.44s/it]"
          ]
        },
        {
          "output_type": "stream",
          "name": "stdout",
          "text": [
            "\n",
            "11.800131\n"
          ]
        },
        {
          "output_type": "stream",
          "name": "stderr",
          "text": [
            "\rTraining epoch:  15%|█▌        | 15/100 [03:58<21:49, 15.41s/it]"
          ]
        },
        {
          "output_type": "stream",
          "name": "stdout",
          "text": [
            "\n",
            "9.274812\n"
          ]
        },
        {
          "output_type": "stream",
          "name": "stderr",
          "text": [
            "\rTraining epoch:  16%|█▌        | 16/100 [04:11<20:31, 14.66s/it]"
          ]
        },
        {
          "output_type": "stream",
          "name": "stdout",
          "text": [
            "\n",
            "7.093526\n"
          ]
        },
        {
          "output_type": "stream",
          "name": "stderr",
          "text": [
            "\rTraining epoch:  17%|█▋        | 17/100 [04:24<19:36, 14.18s/it]"
          ]
        },
        {
          "output_type": "stream",
          "name": "stdout",
          "text": [
            "\n",
            "5.2618046\n"
          ]
        },
        {
          "output_type": "stream",
          "name": "stderr",
          "text": [
            "\rTraining epoch:  18%|█▊        | 18/100 [04:37<18:52, 13.82s/it]"
          ]
        },
        {
          "output_type": "stream",
          "name": "stdout",
          "text": [
            "\n",
            "3.7348967\n"
          ]
        },
        {
          "output_type": "stream",
          "name": "stderr",
          "text": [
            "\rTraining epoch:  19%|█▉        | 19/100 [04:50<18:18, 13.56s/it]"
          ]
        },
        {
          "output_type": "stream",
          "name": "stdout",
          "text": [
            "\n",
            "2.476943\n"
          ]
        },
        {
          "output_type": "stream",
          "name": "stderr",
          "text": [
            "\rTraining epoch:  20%|██        | 20/100 [05:03<17:52, 13.41s/it]"
          ]
        },
        {
          "output_type": "stream",
          "name": "stdout",
          "text": [
            "\n",
            "1.520935\n"
          ]
        },
        {
          "output_type": "stream",
          "name": "stderr",
          "text": [
            "\rTraining epoch:  21%|██        | 21/100 [05:16<17:30, 13.30s/it]"
          ]
        },
        {
          "output_type": "stream",
          "name": "stdout",
          "text": [
            "\n",
            "0.79331946\n"
          ]
        },
        {
          "output_type": "stream",
          "name": "stderr",
          "text": [
            "\rTraining epoch:  22%|██▏       | 22/100 [05:29<17:11, 13.22s/it]"
          ]
        },
        {
          "output_type": "stream",
          "name": "stdout",
          "text": [
            "\n",
            "0.3039347\n"
          ]
        },
        {
          "output_type": "stream",
          "name": "stderr",
          "text": [
            "\rTraining epoch:  23%|██▎       | 23/100 [05:42<16:52, 13.15s/it]"
          ]
        },
        {
          "output_type": "stream",
          "name": "stdout",
          "text": [
            "\n",
            "0.06551007\n"
          ]
        },
        {
          "output_type": "stream",
          "name": "stderr",
          "text": [
            "\rTraining epoch:  23%|██▎       | 23/100 [05:55<19:51, 15.47s/it]"
          ]
        },
        {
          "output_type": "stream",
          "name": "stdout",
          "text": [
            "\n",
            "7.262977e-05\n"
          ]
        },
        {
          "output_type": "stream",
          "name": "stderr",
          "text": [
            "\n"
          ]
        }
      ]
    },
    {
      "cell_type": "code",
      "source": [
        "print(converging_energies[0].primal)"
      ],
      "metadata": {
        "colab": {
          "base_uri": "https://localhost:8080/"
        },
        "id": "x3eElKd6PJ59",
        "outputId": "f5ff69d5-0459-4a45-cb92-73e91e9946ae"
      },
      "execution_count": 15,
      "outputs": [
        {
          "output_type": "stream",
          "name": "stdout",
          "text": [
            "-145.81656\n"
          ]
        }
      ]
    },
    {
      "cell_type": "markdown",
      "source": [
        "Plotting for the trained data (above) convergence"
      ],
      "metadata": {
        "id": "hNd90jaNoTh9"
      }
    },
    {
      "cell_type": "code",
      "source": [
        "converging_energies = [energy.primal for energy in converging_energies]\n",
        "avg_converging_energies = []\n",
        "for i in range(0, len(converging_energies), len(train_data)):\n",
        "    avg_converging_energies.append(np.mean(converging_energies[i:i+len(train_data)]))\n",
        "print(len(avg_converging_energies))\n",
        "# Create a list of iteration numbers\n",
        "iterations = list(range(len(avg_converging_energies)))\n",
        "\n",
        "# Plot the energy values over iterations\n",
        "plt.plot(iterations, avg_converging_energies)\n",
        "plt.xlabel('Iteration')\n",
        "plt.ylabel('Total energy (Ethanol)')\n",
        "plt.grid(True)\n",
        "plt.title('Energy Convergence')\n",
        "plt.title(f'Energy Convergence for Ethanol on LR {learning_rate} with decay (*0.5) + Momentum {momentum}')\n",
        "\n",
        "# Show the plot\n",
        "plt.show()"
      ],
      "metadata": {
        "colab": {
          "base_uri": "https://localhost:8080/",
          "height": 490
        },
        "id": "aOUaFMa5eJCy",
        "outputId": "75431e2b-d0b7-4b05-a4d6-000de042bffe"
      },
      "execution_count": 18,
      "outputs": [
        {
          "output_type": "stream",
          "name": "stdout",
          "text": [
            "24\n"
          ]
        },
        {
          "output_type": "display_data",
          "data": {
            "text/plain": [
              "<Figure size 640x480 with 1 Axes>"
            ],
            "image/png": "[encoded data removed]"
          },
          "metadata": {}
        }
      ]
    },
    {
      "cell_type": "markdown",
      "source": [
        "## Testing Phase\n"
      ],
      "metadata": {
        "id": "6nPmhekXcMZ-"
      }
    },
    {
      "cell_type": "markdown",
      "source": [
        "SCF Testing\n",
        "\n",
        "Based on\n",
        "$$\n",
        "F(C)C = SC\\epsilon\n",
        "$$\n",
        "\n",
        "where F is the fock matrix, constructed using the trained param in the above sections. The general workflow is the following:\n",
        "\n",
        "\n",
        "1.   For the trained param, use it to construct an updated Fock matrix and solve the spectral problem using also the overlap matrix which would be the same throughout this process\n",
        "2.   Obtain an updated C matrix which would be used to construct the reduced density matrix $\\Gamma$\n",
        "3.   Use the updated reduced density matrix to construct a new Fock matrix\n",
        "\n"
      ],
      "metadata": {
        "id": "wJure4YoEN09"
      }
    },
    {
      "cell_type": "code",
      "source": [
        "# from jax.scipy.linalg import eigh\n",
        "from scipy.linalg import eigh"
      ],
      "metadata": {
        "id": "bUQLoNF_NvyC"
      },
      "execution_count": 30,
      "outputs": []
    },
    {
      "cell_type": "code",
      "source": [
        "def compute_total_energy(rdm1, molecule, params):\n",
        "  molecule = molecule.replace(rdm1=rdm1)\n",
        "  return neuralfunctional.energy(params, molecule)\n",
        "test_data, ground_energy_test = obtain_data(2, ethanol_dataset, ethanol_atomic_symbols)\n",
        "\n",
        "# test_data, ground_energy_test = obtain_data(1, ethanol_dataset, ethanol_atomic_symbols)\n",
        "# overlap_matricies = [mol.s1e for mol in test_data]\n",
        "# fock_matricies = [grad(compute_energy, argnums=0)(mol.rdm1, mol, params) for mol in test_data]\n",
        "\n",
        "# #print(test_data[0].rdm1.shape)\n",
        "# #print(fock_matricies[0][0].shape)\n",
        "# #print(overlap_matricies[0].shape)\n",
        "\n",
        "# epsilon_up, C_up = eigh(fock_matricies[0][0], overlap_matricies[0])\n",
        "# epsilon_down, C_down = eigh(fock_matricies[0][1], overlap_matricies[0])\n",
        "\n",
        "# # eigenvalues are the orbital energies\n",
        "# # eigenvectors are the molecular orbitals\n",
        "# print(\"Orbital Energies (Eigenvalues):\", epsilon_down.shape)\n",
        "# print(\"Molecular Orbitals (Eigenvectors):\\n\", C_down.shape)"
      ],
      "metadata": {
        "colab": {
          "base_uri": "https://localhost:8080/"
        },
        "collapsed": true,
        "id": "EpOUxA5w_nDl",
        "outputId": "131d3560-1171-4975-c865-1c99e31959e2"
      },
      "execution_count": 31,
      "outputs": [
        {
          "output_type": "stream",
          "name": "stdout",
          "text": [
            "We are at number:1\n",
            "We are at number:2\n"
          ]
        }
      ]
    },
    {
      "cell_type": "code",
      "source": [
        "def scf_iteration(rdm1):\n",
        "  \"\"\" 1 SCF iteration. \"\"\"\n",
        "  new_rdm1 = []\n",
        "  overlap_matricies = [mol.s1e for mol in test_data] # stays the same\n",
        "  fock_matricies = [grad(compute_total_energy, argnums=0)(rdm1[i], mol, params) for i,mol in enumerate(test_data)]\n",
        "  for i, fock in enumerate(fock_matricies):\n",
        "    fock_up = fock[0]\n",
        "    fock_down = fock[1]\n",
        "    epsilon_up, C_up = eigh(fock_up, overlap_matricies[i])\n",
        "    epsilon_down, C_down = eigh(fock_down, overlap_matricies[i])\n",
        "    rdm1_up = jnp.dot(C_up, C_up.T)\n",
        "    rdm1_down = jnp.dot(C_down, C_down.T)\n",
        "    rdm1_new = jnp.stack([rdm1_up, rdm1_down], axis=0)\n",
        "    new_rdm1.append(jnp.array(rdm1_new))\n",
        "  updated_energy = [compute_total_energy(new_rdm1[i], mol, params) for i,mol in enumerate(test_data)]\n",
        "  return new_rdm1, updated_energy\n",
        "\n",
        "params = state[0][0]\n",
        "# x = compute_energy(test_data[0].rdm1, test_data[0], params)\n",
        "# print(x)\n",
        "max_scf_iteration = 200\n",
        "rdm1 = [test_data[i].rdm1 for i in range(len(test_data))]\n",
        "scf_energy_list = []\n",
        "non_decreasing_counter = 0\n",
        "previous_energy = float('inf')  # Initialize with a large number\n",
        "# print(test_data[0].rdm1)\n",
        "for iteration in tqdm(range(max_scf_iteration), desc='SCF Iteration'):\n",
        "  rdm1, updated_energy = scf_iteration(rdm1)\n",
        "  scf_energy_list.append(updated_energy)\n",
        "  # Print the updated energy at each iteration\n",
        "  # print(rdm1[0])\n",
        "  print(f\"\\nIteration {iteration}: SCF_Energy = {updated_energy} | Actual_Energy = {ground_energy_test}\")\n",
        "\n",
        "  # # Check if the updated energy has decreased\n",
        "  # if updated_energy < previous_energy:\n",
        "  #   non_decreasing_counter = 0  # Reset counter on decrease\n",
        "  # else:\n",
        "  #   non_decreasing_counter += 1  # Increment counter if not decreased\n",
        "\n",
        "  # # Update the previous energy to the current\n",
        "  # previous_energy = updated_energy\n",
        "\n",
        "  # # Stop the loop if energy hasn't decreased in 5 consecutive iterations\n",
        "  # if non_decreasing_counter >= 5:\n",
        "  #   print(\"Energy has not decreased for 5 consecutive iterations. Stopping SCF iterations.\")\n",
        "  #   break"
      ],
      "metadata": {
        "id": "LESftU5R-B_m"
      },
      "execution_count": null,
      "outputs": []
    },
    {
      "cell_type": "markdown",
      "source": [
        "Direct Minimization Testing"
      ],
      "metadata": {
        "id": "Z1oMEO7MEUtq"
      }
    },
    {
      "cell_type": "code",
      "source": [
        "params = state[0][0]\n",
        "\n",
        "# test_data, ground_energy_test = obtain_data(3, ethanol_dataset, ethanol_atomic_symbols)\n",
        "\n",
        "n_epochs, learning_rate, momentum = 200, 1e-2, 0.9\n",
        "schedule = exponential_decay(init_value=1e-2, transition_steps=25, decay_rate=0.5, staircase=True)\n",
        "optimizer_train = adam(learning_rate=schedule, b1=momentum)\n",
        "\n",
        "opt_state_train = optimizer_train.init(params)\n",
        "compute_energy_train = energy_predictor(neuralfunctional)"
      ],
      "metadata": {
        "id": "RiLN514mcPYt"
      },
      "execution_count": null,
      "outputs": []
    },
    {
      "cell_type": "code",
      "source": [
        "@value_and_grad\n",
        "def total_energy(params, compute_energy, molecule, trueenergy):\n",
        "  predictedenergy, fock_matrix = compute_energy(params, molecule) #returns both the xc and fock matrix\n",
        "  return (predictedenergy - trueenergy) ** 2 #sqaured error used"
      ],
      "metadata": {
        "id": "HJnocbsprpBR"
      },
      "execution_count": null,
      "outputs": []
    }
  ]
}