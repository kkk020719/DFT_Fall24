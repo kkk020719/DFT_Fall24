{
  "nbformat": 4,
  "nbformat_minor": 0,
  "metadata": {
    "colab": {
      "provenance": [],
      "authorship_tag": "ABX9TyNEidi1CPpoEOylG6ck2rSQ",
      "include_colab_link": true
    },
    "kernelspec": {
      "name": "python3",
      "display_name": "Python 3"
    },
    "language_info": {
      "name": "python"
    }
  },
  "cells": [
    {
      "cell_type": "markdown",
      "metadata": {
        "id": "view-in-github",
        "colab_type": "text"
      },
      "source": [
        "<a href=\"https://colab.research.google.com/github/kkk020719/DFT_Fall24/blob/main/GradDFT_TrainEx1.ipynb\" target=\"_parent\"><img src=\"https://colab.research.google.com/assets/colab-badge.svg\" alt=\"Open In Colab\"/></a>"
      ]
    },
    {
      "cell_type": "code",
      "execution_count": null,
      "metadata": {
        "id": "6R0q3q7WCGdA",
        "collapsed": true
      },
      "outputs": [],
      "source": [
        "!pip install git+https://github.com/XanaduAI/GradDFT.git\n",
        "!pip install torch_geometric\n",
        "!pip install jax==0.4.20 jaxlib==0.4.20\n",
        "!pip list | grep jax"
      ]
    },
    {
      "cell_type": "code",
      "source": [
        "#import os\n",
        "\n",
        "# Mount Google Drive\n",
        "#from google.colab import drive\n",
        "#drive.mount('/content/drive')\n",
        "\n",
        "# Create a folder in the root directory\n",
        "#!mkdir -p \"/content/drive/My Drive/Ethanol_data_MD17\""
      ],
      "metadata": {
        "id": "BhojIuJmH-vK"
      },
      "execution_count": null,
      "outputs": []
    },
    {
      "cell_type": "code",
      "source": [
        "from torch_geometric.datasets import md17\n",
        "import jax\n",
        "from jax import numpy as jnp\n",
        "from jax import grad, jit, vmap\n",
        "from jax import random\n",
        "import math\n",
        "import pdb\n",
        "import numpy as np\n",
        "\n",
        "import grad_dft as gd\n",
        "\n",
        "from grad_dft.functional import canonicalize_inputs, dm21_coefficient_inputs, dm21_densities\n",
        "\n",
        "from grad_dft import (\n",
        "\tenergy_predictor,\n",
        "\tsimple_energy_loss,\n",
        "\tNeuralFunctional,\n",
        "\tmolecule_from_pyscf,\n",
        "  Functional,\n",
        "\tconstraints\n",
        ")\n",
        "\n",
        "from pyscf import gto, dft\n",
        "\n",
        "from jax.nn import sigmoid, gelu\n",
        "from jax.random import PRNGKey\n",
        "from jax import value_and_grad\n",
        "from flax import linen as nn\n",
        "from optax import adam, apply_updates\n",
        "from tqdm import tqdm\n",
        "from jax.flatten_util import ravel_pytree\n",
        "import matplotlib.pyplot as plt\n",
        "\n",
        "from sklearn.model_selection import train_test_split"
      ],
      "metadata": {
        "collapsed": true,
        "id": "fYBhdfQGEBDX"
      },
      "execution_count": null,
      "outputs": []
    },
    {
      "cell_type": "markdown",
      "source": [
        "# Training using GradDFT and direct optimization\n",
        "\n",
        "In this notebook example, we will run through the different strategies that can be used to train a Neural functional for the exchange-correlation functional in Grad DFT. Using molecules such as ethanol as training molecules, we will study how a neural functional can generalize to calculating the total energy. More generally, the workflow is:\n",
        "\n",
        "\n",
        "1.   Generate molecule train/test dataset and acquire required properties.\n",
        "2.   Use GradDFT library to train the neural network for the coefficients corresponding to energy densities (We use LDA for energy densities) which together forms the exchange-correlation functional under integration\n",
        "3.  After training, we test the learned functional to try to predict the energy for the test conformations using SCF or direct optimization. For example, by directly minimizing\n",
        "$$\n",
        "min_{C} E(C)\n",
        "$$\n",
        "subject to the orthonormality constraint of the molecular orbitals\n",
        "$$\n",
        "C^TSC = 1.\n",
        "$$\n"
      ],
      "metadata": {
        "id": "F92X5LhbGaX0"
      }
    },
    {
      "cell_type": "markdown",
      "source": [
        "## Generate Training/Testing Data\n",
        "\n",
        "The data were acuiqred from MD17 dataset. According to their documentation, the energies of molecules of MD17 dataset were calculated at the PBE/def2-SVP level of theory using very tight SCF convergence and very dense DFT integration grid. We provide functions below to acquire data and return corresponding PySCF objects for future use"
      ],
      "metadata": {
        "id": "jeH5oh_AF12X"
      }
    },
    {
      "cell_type": "code",
      "source": [
        "ethanol_dataset = md17.MD17(root='.', name='ethanol')"
      ],
      "metadata": {
        "id": "KsJJo6smGQWO"
      },
      "execution_count": null,
      "outputs": []
    },
    {
      "cell_type": "code",
      "source": [
        "def obtain_data(num_data, data_set, atomic_symbols):\n",
        "  'Takes a number of molecules randomly from dataset provided and returning the PySCF molecule objects'\n",
        "  molecules = []\n",
        "  ground_energies = []\n",
        "  #Randomly select a number of indices\n",
        "  indices = np.random.choice(len(data_set), num_data, replace=False)\n",
        "  selected_samples = [data_set[i] for i in indices]\n",
        "  # Define atomic symbols for the corresponding atomic numbers in MD17 dataset for ethanol\n",
        "  for sample in selected_samples:\n",
        "    position = sample.pos\n",
        "    atomic_number = sample.z\n",
        "\n",
        "    # Start building the molecule description string\n",
        "    atom_desc = ''\n",
        "    for z, pos in zip(atomic_number, position):\n",
        "      #print(z.item())\n",
        "      #print(pos)\n",
        "      if z.item() in atomic_symbols:\n",
        "        symbol = atomic_symbols[z.item()]  # Get symbol using atomic number\n",
        "        atom_desc += f'{symbol} {pos[0]:.4f} {pos[1]:.4f} {pos[2]:.4f}\\n'\n",
        "      else:\n",
        "        raise ValueError(f\"Unrecognized atomic number {z.item()} found, unable to proceed with molecule creation.\")\n",
        "    # Create a PySCF molecule object\n",
        "    mol = gto.M(atom=atom_desc, basis='def2-svp', unit='Ang', spin = 0, verbose=0) #setting up according to the documation of original data set\n",
        "    molecules.append(mol)\n",
        "    ground_energies.append(sample.energy.item()/627.509)\n",
        "  return molecules, ground_energies\n",
        "\n",
        "#loading PySCF data from MD17\n",
        "ethanol_atomic_symbols = {1: 'H', 6: 'C', 8: 'O'}\n",
        "train_data, ground_energy_train  = obtain_data(8, ethanol_dataset, ethanol_atomic_symbols)\n",
        "test_data, ground_energy_test = obtain_data(2, ethanol_dataset, ethanol_atomic_symbols)"
      ],
      "metadata": {
        "colab": {
          "base_uri": "https://localhost:8080/"
        },
        "collapsed": true,
        "id": "5bympRlKJ5o1",
        "outputId": "fc3d13f3-cf39-4786-9908-50d55452baf2"
      },
      "execution_count": 5,
      "outputs": [
        {
          "output_type": "stream",
          "name": "stdout",
          "text": [
            "[-154.88805489243978, -154.89022119603064, -154.89957116152917, -154.89427990275837, -154.88469338686775]\n"
          ]
        }
      ]
    },
    {
      "cell_type": "markdown",
      "source": [
        "## Training Phase"
      ],
      "metadata": {
        "id": "cjqH2R7fKUyE"
      }
    },
    {
      "cell_type": "code",
      "source": [
        "def energy_densities(molecule):\n",
        "    rho = molecule.density()\n",
        "    lda_e = -3/2 * (3/(4*jnp.pi))**(1/3) * (rho**(4/3)).sum(axis = 1, keepdims = True) #\n",
        "    return lda_e\n",
        "\n",
        "def coefficient_inputs(molecule):\n",
        "    rho = molecule.density()\n",
        "    kinetic = molecule.kinetic_density()\n",
        "    return jnp.concatenate((rho, kinetic), axis=1)\n",
        "\n",
        "def coefficients(self, rhoinputs):\n",
        "    x = nn.Dense(features=2)(rhoinputs) # features = 1 means it outputs a single weight\n",
        "    #print(x)\n",
        "    #pdb.set_trace()\n",
        "    x = nn.LayerNorm()(x)\n",
        "    #print(\"coe\")\n",
        "    #print(x)\n",
        "    #print(gelu(x))\n",
        "    return gelu(x) # using gelu as activation function\n",
        "\n",
        "neuralfunctional = NeuralFunctional(coefficients, energy_densities, coefficient_inputs)"
      ],
      "metadata": {
        "id": "TPlaJ5a7KXDW"
      },
      "execution_count": null,
      "outputs": []
    },
    {
      "cell_type": "code",
      "source": [
        "seed = 40\n",
        "key = jax.random.PRNGKey(seed)\n",
        "params_train = []\n",
        "cinputs = [coefficient_inputs(molecule) for molecule in train_molecules]\n",
        "#predicted_energy = neuralfunctional.energy(params, molecule)"
      ],
      "metadata": {
        "id": "U3hVNAE6dofE"
      },
      "execution_count": null,
      "outputs": []
    },
    {
      "cell_type": "code",
      "source": [
        "# Define optimizer\n",
        "n_epochs, learning_rate, momentum = 200, 1e-2, 0.9\n",
        "optimizer = adam(learning_rate=learning_rate, b1=momentum)\n",
        "opt_state = optimizer.init(params)\n",
        "compute_energy = energy_predictor(neuralfunctional)\n",
        "trueenergy = mf.energy_tot()\n",
        "converging_energies = []\n",
        "\n",
        "@value_and_grad\n",
        "def SEloss(params, compute_energy, molecule, trueenergy):\n",
        "    predictedenergy, fock_matrix = compute_energy(params, molecule) #returns both the xc and fock matrix\n",
        "    converging_energies.append(predictedenergy)\n",
        "    return (predictedenergy - trueenergy) ** 2 #sqaured error used"
      ],
      "metadata": {
        "id": "SLpnmp05jtpS"
      },
      "execution_count": null,
      "outputs": []
    },
    {
      "cell_type": "markdown",
      "source": [
        "## Testing Phase\n"
      ],
      "metadata": {
        "id": "6nPmhekXcMZ-"
      }
    },
    {
      "cell_type": "code",
      "source": [],
      "metadata": {
        "id": "RiLN514mcPYt"
      },
      "execution_count": null,
      "outputs": []
    }
  ]
}