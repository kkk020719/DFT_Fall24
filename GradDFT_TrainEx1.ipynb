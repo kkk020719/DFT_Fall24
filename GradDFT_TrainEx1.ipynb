{
  "nbformat": 4,
  "nbformat_minor": 0,
  "metadata": {
    "colab": {
      "provenance": [],
      "gpuType": "L4",
      "authorship_tag": "ABX9TyNX89ZQ5T2nPvXLIODlI8km",
      "include_colab_link": true
    },
    "kernelspec": {
      "name": "python3",
      "display_name": "Python 3"
    },
    "language_info": {
      "name": "python"
    },
    "accelerator": "GPU"
  },
  "cells": [
    {
      "cell_type": "markdown",
      "metadata": {
        "id": "view-in-github",
        "colab_type": "text"
      },
      "source": [
        "<a href=\"https://colab.research.google.com/github/kkk020719/DFT_Fall24/blob/main/GradDFT_TrainEx1.ipynb\" target=\"_parent\"><img src=\"https://colab.research.google.com/assets/colab-badge.svg\" alt=\"Open In Colab\"/></a>"
      ]
    },
    {
      "cell_type": "code",
      "execution_count": null,
      "metadata": {
        "id": "6R0q3q7WCGdA"
      },
      "outputs": [],
      "source": [
        "!pip install git+https://github.com/XanaduAI/GradDFT.git\n",
        "!pip install jax==0.4.20 jaxlib==0.4.20\n",
        "!pip list | grep jax"
      ]
    },
    {
      "cell_type": "markdown",
      "source": [
        "# Training using GradDFT and direct optimization"
      ],
      "metadata": {
        "id": "dxZTBvA_fdKV"
      }
    },
    {
      "cell_type": "markdown",
      "source": [
        "In this notebook, we will run through the different strategies that can be used to train a Neural functional for the exchange-correlation functional in Grad DFT. Using molecules such as ethanol as training molecules, we will study how a neural functional can generalize to calculating the total energy.\n",
        "\n"
      ],
      "metadata": {
        "id": "O4rgURs9f2Kc"
      }
    },
    {
      "cell_type": "code",
      "source": [
        "import jax\n",
        "from jax import numpy as jnp\n",
        "from jax import grad, jit, vmap\n",
        "from jax import random\n",
        "import math\n",
        "import pdb\n",
        "\n",
        "from grad_dft import (\n",
        "\tenergy_predictor,\n",
        "\tsimple_energy_loss,\n",
        "\tNeuralFunctional,\n",
        "\tmolecule_from_pyscf,\n",
        "  Functional\n",
        ")\n",
        "\n",
        "from pyscf import gto, dft\n",
        "\n",
        "from jax.nn import sigmoid, gelu\n",
        "from jax.random import PRNGKey\n",
        "from jax import value_and_grad\n",
        "from flax import linen as nn\n",
        "from optax import adam, apply_updates\n",
        "from tqdm import tqdm\n",
        "from jax.flatten_util import ravel_pytree\n",
        "import matplotlib.pyplot as plt\n",
        "\n",
        "from grad_dft import constraints\n",
        "\n",
        "from sklearn.model_selection import train_test_split"
      ],
      "metadata": {
        "id": "9j6dkgRLDRBH"
      },
      "execution_count": null,
      "outputs": []
    },
    {
      "cell_type": "markdown",
      "source": [
        "## Generating training/validation data and initial guesses\n",
        "\n"
      ],
      "metadata": {
        "id": "J9zkdqDJDfk1"
      }
    },
    {
      "cell_type": "code",
      "source": [
        "#all_molecules = []\n",
        "train_molecules = []\n",
        "test_molecules = []\n",
        "ground_energies = []\n",
        "\n",
        "def generate_ethanol_variants(n_molecules):\n",
        "    # Base coordinates for ethanol\n",
        "    seed = 40\n",
        "    molecules = []\n",
        "    base_coords = [\n",
        "        \"C 0.0000 0.0000 0.0000\", \"C 0.0000 0.0000 1.5400\",\n",
        "        \"O 0.0000 0.0000 -1.4300\", \"H 0.0000 0.9300 -1.9300\",\n",
        "        \"H 0.0000 -0.9300 -1.9300\", \"H 0.0000 0.9300 2.0700\",\n",
        "        \"H 0.0000 -0.9300 2.0700\", \"H 0.9200 0.0000 1.9300\",\n",
        "        \"H -0.9200 0.0000 1.9300\"\n",
        "    ]\n",
        "\n",
        "    return molecules\n",
        "\n",
        "# Generate molecules\n",
        "n_total = 5  # Total number of molecules\n",
        "ethanol_molecules = generate_ethanol_variants(n_total)"
      ],
      "metadata": {
        "id": "Ayy0SxTIDrPe"
      },
      "execution_count": null,
      "outputs": []
    },
    {
      "cell_type": "code",
      "source": [
        "# Splitting the data into training and testing sets\n",
        "train_molecules, test_molecules = train_test_split(ethanol_molecules, test_size=0.20, random_state=42)\n",
        "train_ground_energies, test_ground_energies = train_test_split(ground_energies, test_size=0.20, random_state=42)\n",
        "\n",
        "# Print the sizes of the resulting sets\n",
        "print(f\"Training set size: {len(train_molecules)}\")\n",
        "print(f\"Testing set size: {len(test_molecules)}\")"
      ],
      "metadata": {
        "id": "LsdmEZJ_J_nZ"
      },
      "execution_count": null,
      "outputs": []
    },
    {
      "cell_type": "markdown",
      "source": [
        "# Train"
      ],
      "metadata": {
        "id": "cjqH2R7fKUyE"
      }
    },
    {
      "cell_type": "code",
      "source": [
        "def energy_densities(molecule):\n",
        "    rho = molecule.density()\n",
        "    lda_e = -3/2 * (3/(4*jnp.pi))**(1/3) * (rho**(4/3)).sum(axis = 1, keepdims = True) #\n",
        "    #lda_e = jnp.concatenate([lda_e, lda_e], axis=0)\n",
        "    return lda_e\n",
        "\n",
        "def coefficient_inputs(molecule):\n",
        "    rho = molecule.density()\n",
        "    kinetic = molecule.kinetic_density()\n",
        "    return jnp.concatenate((rho, kinetic), axis=1)\n",
        "\n",
        "def coefficients(self, rhoinputs):\n",
        "    x = nn.Dense(features=2)(rhoinputs) # features = 1 means it outputs a single weight\n",
        "    #print(x)\n",
        "    #pdb.set_trace()\n",
        "    x = nn.LayerNorm()(x)\n",
        "    #print(\"coe\")\n",
        "    #print(x)\n",
        "    #print(gelu(x))\n",
        "    return gelu(x) # using gelu as activation function\n",
        "\n",
        "neuralfunctional = NeuralFunctional(coefficients, energy_densities, coefficient_inputs)"
      ],
      "metadata": {
        "id": "TPlaJ5a7KXDW"
      },
      "execution_count": null,
      "outputs": []
    },
    {
      "cell_type": "code",
      "source": [
        "seed = 40\n",
        "key = jax.random.PRNGKey(seed)\n",
        "params_train = []\n",
        "cinputs = [coefficient_inputs(molecule) for molecule in train_molecules]\n",
        "for i in cinputs:\n",
        "  params_train.append(neuralfunctional.init(key, i))\n",
        "#predicted_energy = neuralfunctional.energy(params, molecule)"
      ],
      "metadata": {
        "id": "U3hVNAE6dofE"
      },
      "execution_count": null,
      "outputs": []
    },
    {
      "cell_type": "markdown",
      "source": [
        "# Training"
      ],
      "metadata": {
        "id": "CIHGFvc0jpcP"
      }
    },
    {
      "cell_type": "code",
      "source": [
        "# Define optimizer\n",
        "n_epochs, learning_rate, momentum = 200, 1e-2, 0.9\n",
        "optimizer = adam(learning_rate=learning_rate, b1=momentum)\n",
        "opt_state = optimizer.init(params)\n",
        "compute_energy = energy_predictor(neuralfunctional)\n",
        "trueenergy = mf.energy_tot()\n",
        "converging_energies = []\n",
        "\n",
        "@value_and_grad\n",
        "def SEloss(params, compute_energy, molecule, trueenergy):\n",
        "    predictedenergy, fock_matrix = compute_energy(params, molecule) #returns both the xc and fock matrix\n",
        "    converging_energies.append(predictedenergy)\n",
        "    return (predictedenergy - trueenergy) ** 2 #sqaured error used"
      ],
      "metadata": {
        "id": "SLpnmp05jtpS"
      },
      "execution_count": null,
      "outputs": []
    },
    {
      "cell_type": "markdown",
      "source": [
        "# Testing\n"
      ],
      "metadata": {
        "id": "6nPmhekXcMZ-"
      }
    },
    {
      "cell_type": "code",
      "source": [],
      "metadata": {
        "id": "RiLN514mcPYt"
      },
      "execution_count": null,
      "outputs": []
    }
  ]
}